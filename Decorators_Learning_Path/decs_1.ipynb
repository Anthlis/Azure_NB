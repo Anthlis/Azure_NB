{
  "cells": [
    {
      "metadata": {
        "trusted": true
      },
      "cell_type": "code",
      "source": "def makebold(fn):\n    def wrapped():\n        return \"<b>\" +fn() + \"</b>\"\n    return wrapped",
      "execution_count": 4,
      "outputs": []
    },
    {
      "metadata": {
        "trusted": true
      },
      "cell_type": "code",
      "source": "def makeitalic(fn):\n    def wrapped():\n        return \"<i>\" + fn() + \"</i>\"\n    return wrapped",
      "execution_count": 5,
      "outputs": []
    },
    {
      "metadata": {
        "trusted": true
      },
      "cell_type": "code",
      "source": "@makebold\n@makeitalic\ndef hello():\n    return \"hello World\"",
      "execution_count": 6,
      "outputs": []
    },
    {
      "metadata": {
        "trusted": true
      },
      "cell_type": "code",
      "source": "print(hello())",
      "execution_count": 7,
      "outputs": [
        {
          "output_type": "stream",
          "text": "<b><i>hello World</i></b>\n",
          "name": "stdout"
        }
      ]
    },
    {
      "metadata": {},
      "cell_type": "markdown",
      "source": "### Dan Baders Decorators tutorial"
    },
    {
      "metadata": {
        "trusted": true
      },
      "cell_type": "code",
      "source": "# a decorator is a callable that takes a callable as input and returns another callable\n\ndef null_decorator(func):\n    return func\n\n# null_operator is a callable (it's a function), it takes another callable as its input and returns it unmodified.",
      "execution_count": 24,
      "outputs": []
    },
    {
      "metadata": {
        "trusted": true
      },
      "cell_type": "code",
      "source": "# Using it to decorate (or wrap) another function:\n\ndef greet():\n    return 'hello!'\n\ngreet = null_decorator(greet)\n\ngreet()",
      "execution_count": 25,
      "outputs": [
        {
          "output_type": "execute_result",
          "execution_count": 25,
          "data": {
            "text/plain": "'hello!'"
          },
          "metadata": {}
        }
      ]
    },
    {
      "metadata": {
        "trusted": true
      },
      "cell_type": "code",
      "source": "# now do the same with @syntax\n\n@null_decorator\ndef greet():\n    return 'Hello!!'\n\ngreet()",
      "execution_count": 26,
      "outputs": [
        {
          "output_type": "execute_result",
          "execution_count": 26,
          "data": {
            "text/plain": "'Hello!!'"
          },
          "metadata": {}
        }
      ]
    },
    {
      "metadata": {
        "trusted": true
      },
      "cell_type": "code",
      "source": "",
      "execution_count": null,
      "outputs": []
    },
    {
      "metadata": {
        "trusted": true
      },
      "cell_type": "code",
      "source": "",
      "execution_count": null,
      "outputs": []
    },
    {
      "metadata": {
        "trusted": true
      },
      "cell_type": "code",
      "source": "",
      "execution_count": null,
      "outputs": []
    },
    {
      "metadata": {
        "trusted": true
      },
      "cell_type": "code",
      "source": "",
      "execution_count": null,
      "outputs": []
    },
    {
      "metadata": {
        "trusted": true
      },
      "cell_type": "markdown",
      "source": "### PyBites Bite 22 sandwich decorator "
    },
    {
      "metadata": {
        "trusted": true
      },
      "cell_type": "code",
      "source": "from functools import wraps\n\nUPPER_SLICE = \"=== Upper bread slice ===\"\nLOWER_SLICE = \"=== Lower bread slice ===\"\n\n\ndef sandwich(func):\n    \"\"\"Write a decorator that prints UPPER_SLICE and\n       LOWER_SLICE before and after calling the function (func)\n       that is passed in  (@wraps is to preserve the original\n       func's docstring)\n    \"\"\"\n\n    @wraps(func)\n    def wrapped(*args, **kwargs):\n        print(UPPER_SLICE)\n        func(*args, **kwargs)\n        print(LOWER_SLICE)\n\n    return wrapped",
      "execution_count": 4,
      "outputs": []
    },
    {
      "metadata": {
        "trusted": true
      },
      "cell_type": "code",
      "source": "print(sandwich(\"func\"))",
      "execution_count": 7,
      "outputs": [
        {
          "output_type": "stream",
          "text": "<function sandwich.<locals>.wrapped at 0x7f871a5e0488>\n",
          "name": "stdout"
        }
      ]
    },
    {
      "metadata": {
        "trusted": true
      },
      "cell_type": "code",
      "source": "sandwich(\"hello\")",
      "execution_count": 8,
      "outputs": [
        {
          "output_type": "execute_result",
          "execution_count": 8,
          "data": {
            "text/plain": "<function __main__.sandwich.<locals>.wrapped>"
          },
          "metadata": {}
        }
      ]
    },
    {
      "metadata": {
        "trusted": true
      },
      "cell_type": "code",
      "source": "help(sandwich)",
      "execution_count": 9,
      "outputs": [
        {
          "output_type": "stream",
          "text": "Help on function sandwich in module __main__:\n\nsandwich(func)\n    Write a decorator that prints UPPER_SLICE and\n    LOWER_SLICE before and after calling the function (func)\n    that is passed in  (@wraps is to preserve the original\n    func's docstring)\n\n",
          "name": "stdout"
        }
      ]
    },
    {
      "metadata": {
        "trusted": true
      },
      "cell_type": "code",
      "source": "func()",
      "execution_count": 10,
      "outputs": [
        {
          "output_type": "error",
          "ename": "NameError",
          "evalue": "name 'func' is not defined",
          "traceback": [
            "\u001b[0;31m---------------------------------------------------------------------------\u001b[0m",
            "\u001b[0;31mNameError\u001b[0m                                 Traceback (most recent call last)",
            "\u001b[0;32m<ipython-input-10-bd1982955a12>\u001b[0m in \u001b[0;36m<module>\u001b[0;34m\u001b[0m\n\u001b[0;32m----> 1\u001b[0;31m \u001b[0mfunc\u001b[0m\u001b[0;34m(\u001b[0m\u001b[0;34m)\u001b[0m\u001b[0;34m\u001b[0m\u001b[0m\n\u001b[0m",
            "\u001b[0;31mNameError\u001b[0m: name 'func' is not defined"
          ]
        }
      ]
    },
    {
      "metadata": {
        "trusted": true
      },
      "cell_type": "code",
      "source": "sandwich(func)",
      "execution_count": 11,
      "outputs": [
        {
          "output_type": "error",
          "ename": "NameError",
          "evalue": "name 'func' is not defined",
          "traceback": [
            "\u001b[0;31m---------------------------------------------------------------------------\u001b[0m",
            "\u001b[0;31mNameError\u001b[0m                                 Traceback (most recent call last)",
            "\u001b[0;32m<ipython-input-11-d9bd75c8cb12>\u001b[0m in \u001b[0;36m<module>\u001b[0;34m\u001b[0m\n\u001b[0;32m----> 1\u001b[0;31m \u001b[0msandwich\u001b[0m\u001b[0;34m(\u001b[0m\u001b[0mfunc\u001b[0m\u001b[0;34m)\u001b[0m\u001b[0;34m\u001b[0m\u001b[0m\n\u001b[0m",
            "\u001b[0;31mNameError\u001b[0m: name 'func' is not defined"
          ]
        }
      ]
    },
    {
      "metadata": {
        "trusted": true
      },
      "cell_type": "code",
      "source": "from functools import wraps\n\n\ndef make_html(element):\n    def real_decorator(func):\n        @wraps(func)\n        def wrapper(*args, **kwargs):\n            return f'<{element}>{func(*args, **kwargs)}</{element}>'\n        return wrapper\n    return real_decorator",
      "execution_count": 30,
      "outputs": []
    },
    {
      "metadata": {
        "trusted": true
      },
      "cell_type": "code",
      "source": "make_html(\"test\")",
      "execution_count": 31,
      "outputs": [
        {
          "output_type": "execute_result",
          "execution_count": 31,
          "data": {
            "text/plain": "<function __main__.make_html.<locals>.real_decorator(func)>"
          },
          "metadata": {}
        }
      ]
    },
    {
      "metadata": {
        "trusted": true
      },
      "cell_type": "code",
      "source": "@make_html\ndef hello():\n    \"\"\"Return a friendly greeting.\"\"\"\n    return 'hello!'",
      "execution_count": 35,
      "outputs": []
    },
    {
      "metadata": {
        "trusted": true
      },
      "cell_type": "code",
      "source": "hello.__name__",
      "execution_count": 36,
      "outputs": [
        {
          "output_type": "execute_result",
          "execution_count": 36,
          "data": {
            "text/plain": "'real_decorator'"
          },
          "metadata": {}
        }
      ]
    },
    {
      "metadata": {
        "trusted": true
      },
      "cell_type": "code",
      "source": "hello.__doc__",
      "execution_count": 37,
      "outputs": []
    },
    {
      "metadata": {
        "trusted": true
      },
      "cell_type": "code",
      "source": "",
      "execution_count": null,
      "outputs": []
    },
    {
      "metadata": {
        "trusted": true
      },
      "cell_type": "code",
      "source": "",
      "execution_count": null,
      "outputs": []
    },
    {
      "metadata": {
        "trusted": true
      },
      "cell_type": "code",
      "source": "from functools import wraps\n\n\ndef make_html(i):\n    #@wraps(element)\n    def tag(func):\n        def wrapper(*args, **kwargs):\n            return \"<{0}>{1}</{0}>\".format(i, func(*args), i)\n        return wrapper\n    return tag\n\n\n@make_html(\"p\")\n@make_html(\"strong\")\ndef get_text(text='I can code with PyBites'):\n    return text\n\nprint(get_text('Some random text here'))\n# how do I get default text to print though? \nprint(get_text)\nprint(get_text('text'))\nprint(get_text())",
      "execution_count": 38,
      "outputs": [
        {
          "output_type": "stream",
          "text": "<p><strong>Some random text here</strong></p>\n<function make_html.<locals>.tag.<locals>.wrapper at 0x7f871a5e0c80>\n<p><strong>text</strong></p>\n<p><strong>I can code with PyBites</strong></p>\n",
          "name": "stdout"
        }
      ]
    },
    {
      "metadata": {
        "trusted": true
      },
      "cell_type": "code",
      "source": "get_text.__name__",
      "execution_count": 39,
      "outputs": [
        {
          "output_type": "execute_result",
          "execution_count": 39,
          "data": {
            "text/plain": "'wrapper'"
          },
          "metadata": {}
        }
      ]
    },
    {
      "metadata": {
        "trusted": true
      },
      "cell_type": "code",
      "source": "get_text.__doc__",
      "execution_count": 40,
      "outputs": []
    },
    {
      "metadata": {
        "trusted": true
      },
      "cell_type": "markdown",
      "source": "### J-O Eriksson's Blog post tryout"
    },
    {
      "metadata": {
        "trusted": true
      },
      "cell_type": "code",
      "source": "def my_decorator(input_arg):\n\n    def the_real_decorator(function):\n        def wrapper(*args, **kwargs):\n            result = function(*args, **kwargs)\n            return f'{input_arg}\\n{result}\\n{input_arg}'\n        return wrapper\n\n    return the_real_decorator",
      "execution_count": 2,
      "outputs": []
    },
    {
      "metadata": {
        "trusted": true
      },
      "cell_type": "code",
      "source": "@my_decorator('-------------------')\ndef my_decorated_function(input):\n    return input\n\nprint(my_decorated_function('Hello, World!'))",
      "execution_count": 3,
      "outputs": [
        {
          "output_type": "stream",
          "text": "-------------------\nHello, World!\n-------------------\n",
          "name": "stdout"
        }
      ]
    },
    {
      "metadata": {
        "trusted": true
      },
      "cell_type": "markdown",
      "source": "### Bite 20 context manager"
    },
    {
      "metadata": {
        "trusted": true
      },
      "cell_type": "code",
      "source": "class Account:\n\n    def __init__(self):\n        self._transactions = []\n\n    @property\n    def balance(self):\n        return sum(self._transactions)\n\n    def __add__(self, amount):\n        self._transactions.append(amount)\n\n    def __sub__(self, amount):\n        self._transactions.append(-amount)\n\n    # add 2 dunder methods here to turn this class\n    # into a 'rollback' context manager\n\n    def __enter__(self):\n        self.temp_balance = self.balance\n        return self\n\n    def __exit__(self, exc_type, exc_val, exc_tb):\n        if self.balance < 0:\n            # del self._transactions[-1]\n            self._transactions = [0] # this one works\n\n",
      "execution_count": 7,
      "outputs": []
    },
    {
      "metadata": {
        "trusted": true
      },
      "cell_type": "code",
      "source": "acc = Account()\nprint(acc.balance)\nacc - 5\nprint(acc.balance)",
      "execution_count": 8,
      "outputs": [
        {
          "output_type": "stream",
          "text": "0\n-5\n",
          "name": "stdout"
        }
      ]
    },
    {
      "metadata": {
        "trusted": true
      },
      "cell_type": "code",
      "source": "with acc as a:\n    a - 5\nprint(acc.balance)",
      "execution_count": 9,
      "outputs": [
        {
          "output_type": "stream",
          "text": "0\n",
          "name": "stdout"
        }
      ]
    },
    {
      "metadata": {
        "trusted": true
      },
      "cell_type": "code",
      "source": "",
      "execution_count": null,
      "outputs": []
    }
  ],
  "metadata": {
    "kernelspec": {
      "name": "python36",
      "display_name": "Python 3.6",
      "language": "python"
    },
    "language_info": {
      "mimetype": "text/x-python",
      "nbconvert_exporter": "python",
      "name": "python",
      "pygments_lexer": "ipython3",
      "version": "3.6.6",
      "file_extension": ".py",
      "codemirror_mode": {
        "version": 3,
        "name": "ipython"
      }
    }
  },
  "nbformat": 4,
  "nbformat_minor": 2
}