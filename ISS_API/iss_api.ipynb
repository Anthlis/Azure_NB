{
  "cells": [
    {
      "metadata": {
        "trusted": true
      },
      "cell_type": "code",
      "source": "import requests\nimport pprint as pprint\nimport json\nfrom datetime import datetime",
      "execution_count": 3,
      "outputs": []
    },
    {
      "metadata": {
        "trusted": true
      },
      "cell_type": "code",
      "source": "response = requests.get(\"http://api.open-notify.org/astros.json\")",
      "execution_count": 4,
      "outputs": []
    },
    {
      "metadata": {
        "trusted": true
      },
      "cell_type": "code",
      "source": "print(response.status_code)",
      "execution_count": 5,
      "outputs": [
        {
          "output_type": "stream",
          "text": "200\n",
          "name": "stdout"
        }
      ]
    },
    {
      "metadata": {
        "trusted": true
      },
      "cell_type": "code",
      "source": "pprint.pprint(response.json())",
      "execution_count": 6,
      "outputs": [
        {
          "output_type": "stream",
          "text": "{'message': 'success',\n 'number': 5,\n 'people': [{'craft': 'ISS', 'name': 'Chris Cassidy'},\n            {'craft': 'ISS', 'name': 'Anatoly Ivanishin'},\n            {'craft': 'ISS', 'name': 'Ivan Vagner'},\n            {'craft': 'ISS', 'name': 'Doug Hurley'},\n            {'craft': 'ISS', 'name': 'Bob Behnken'}]}\n",
          "name": "stdout"
        }
      ]
    },
    {
      "metadata": {},
      "cell_type": "markdown",
      "source": "{'message': 'success',\n 'number': 6,\n 'people': [{'craft': 'ISS', 'name': 'Alexey Ovchinin'},\n            {'craft': 'ISS', 'name': 'Nick Hague'},\n            {'craft': 'ISS', 'name': 'Christina Koch'},\n            {'craft': 'ISS', 'name': 'Alexander Skvortsov'},\n            {'craft': 'ISS', 'name': 'Luca Parmitano'},\n            {'craft': 'ISS', 'name': 'Andrew Morgan'}]}"
    },
    {
      "metadata": {
        "trusted": true
      },
      "cell_type": "code",
      "source": "def jprint(obj):\n    # create a formatted string of the Python JSON object\n    text = json.dumps(obj, sort_keys=True, indent=4)\n    print(text)\n    \njprint(response.json())",
      "execution_count": 7,
      "outputs": [
        {
          "output_type": "stream",
          "text": "{\n    \"message\": \"success\",\n    \"number\": 5,\n    \"people\": [\n        {\n            \"craft\": \"ISS\",\n            \"name\": \"Chris Cassidy\"\n        },\n        {\n            \"craft\": \"ISS\",\n            \"name\": \"Anatoly Ivanishin\"\n        },\n        {\n            \"craft\": \"ISS\",\n            \"name\": \"Ivan Vagner\"\n        },\n        {\n            \"craft\": \"ISS\",\n            \"name\": \"Doug Hurley\"\n        },\n        {\n            \"craft\": \"ISS\",\n            \"name\": \"Bob Behnken\"\n        }\n    ]\n}\n",
          "name": "stdout"
        }
      ]
    },
    {
      "metadata": {
        "trusted": true
      },
      "cell_type": "code",
      "source": "parameters = {\n    \"lat\": 43.5908,\n    \"lon\": 172.3792\n}",
      "execution_count": 8,
      "outputs": []
    },
    {
      "metadata": {
        "trusted": true
      },
      "cell_type": "code",
      "source": "resp2 = requests.get(\"http://api.open-notify.org/iss-pass.json\", params=parameters)\njprint(resp2.json())",
      "execution_count": 9,
      "outputs": [
        {
          "output_type": "stream",
          "text": "{\n    \"message\": \"success\",\n    \"request\": {\n        \"altitude\": 100,\n        \"datetime\": 1595061881,\n        \"latitude\": 43.5908,\n        \"longitude\": 172.3792,\n        \"passes\": 5\n    },\n    \"response\": [\n        {\n            \"duration\": 654,\n            \"risetime\": 1595062698\n        },\n        {\n            \"duration\": 619,\n            \"risetime\": 1595068546\n        },\n        {\n            \"duration\": 613,\n            \"risetime\": 1595074402\n        },\n        {\n            \"duration\": 651,\n            \"risetime\": 1595080219\n        },\n        {\n            \"duration\": 598,\n            \"risetime\": 1595086038\n        }\n    ]\n}\n",
          "name": "stdout"
        }
      ]
    },
    {
      "metadata": {
        "trusted": true
      },
      "cell_type": "code",
      "source": "pass_times = resp2.json()['response']\njprint(pass_times)",
      "execution_count": 10,
      "outputs": [
        {
          "output_type": "stream",
          "text": "[\n    {\n        \"duration\": 654,\n        \"risetime\": 1595062698\n    },\n    {\n        \"duration\": 619,\n        \"risetime\": 1595068546\n    },\n    {\n        \"duration\": 613,\n        \"risetime\": 1595074402\n    },\n    {\n        \"duration\": 651,\n        \"risetime\": 1595080219\n    },\n    {\n        \"duration\": 598,\n        \"risetime\": 1595086038\n    }\n]\n",
          "name": "stdout"
        }
      ]
    },
    {
      "metadata": {
        "trusted": true
      },
      "cell_type": "code",
      "source": "risetimes = []\n\nfor d in pass_times:\n    time = d['risetime']\n    risetimes.append(time)\n\nprint(risetimes)",
      "execution_count": 11,
      "outputs": [
        {
          "output_type": "stream",
          "text": "[1595062698, 1595068546, 1595074402, 1595080219, 1595086038]\n",
          "name": "stdout"
        }
      ]
    },
    {
      "metadata": {
        "trusted": true
      },
      "cell_type": "code",
      "source": "times= []\n\nfor rt in risetimes:\n    time = datetime.fromtimestamp(rt)\n    times.append(time)\n    print(time)",
      "execution_count": 12,
      "outputs": [
        {
          "output_type": "stream",
          "text": "2020-07-18 08:58:18\n2020-07-18 10:35:46\n2020-07-18 12:13:22\n2020-07-18 13:50:19\n2020-07-18 15:27:18\n",
          "name": "stdout"
        }
      ]
    },
    {
      "metadata": {
        "trusted": true
      },
      "cell_type": "code",
      "source": "for time in times:\n    if time.hour > 12:\n        print(f\"Look for the ISS at {time.hour}:{time.minute}:{time.second}\")\n    else:\n        print(f\"{time.year}-{time.month}-{time.day}, 'NZ Daytime Pass'\")\n        \n# TODO: Check for 30mins > sunset and 30mins < sunrise for nighttime for good viewing\n# TODO: Check for weather. If cloudy then don't bother. ",
      "execution_count": 13,
      "outputs": [
        {
          "output_type": "stream",
          "text": "2020-7-18, 'NZ Daytime Pass'\n2020-7-18, 'NZ Daytime Pass'\n2020-7-18, 'NZ Daytime Pass'\nLook for the ISS at 13:50:19\nLook for the ISS at 15:27:18\n",
          "name": "stdout"
        }
      ]
    },
    {
      "metadata": {
        "trusted": true
      },
      "cell_type": "code",
      "source": "",
      "execution_count": null,
      "outputs": []
    },
    {
      "metadata": {
        "trusted": true
      },
      "cell_type": "code",
      "source": "",
      "execution_count": null,
      "outputs": []
    }
  ],
  "metadata": {
    "kernelspec": {
      "name": "python36",
      "display_name": "Python 3.6",
      "language": "python"
    },
    "language_info": {
      "mimetype": "text/x-python",
      "nbconvert_exporter": "python",
      "name": "python",
      "pygments_lexer": "ipython3",
      "version": "3.6.6",
      "file_extension": ".py",
      "codemirror_mode": {
        "version": 3,
        "name": "ipython"
      }
    }
  },
  "nbformat": 4,
  "nbformat_minor": 2
}