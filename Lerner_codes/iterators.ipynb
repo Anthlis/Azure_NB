{
  "cells": [
    {
      "metadata": {
        "trusted": true
      },
      "cell_type": "code",
      "source": "from itertools import count",
      "execution_count": 2,
      "outputs": []
    },
    {
      "metadata": {
        "trusted": true
      },
      "cell_type": "code",
      "source": "for i in count(10, 100):\n    if i > 1500:\n        break\n    print(i, end=' ')",
      "execution_count": 3,
      "outputs": [
        {
          "output_type": "stream",
          "text": "10 110 210 310 410 510 610 710 810 910 1010 1110 1210 1310 1410 ",
          "name": "stdout"
        }
      ]
    },
    {
      "metadata": {
        "trusted": true
      },
      "cell_type": "code",
      "source": "for i in range(15):\n    if i > 15:\n        break\n    print(i, end=' ')",
      "execution_count": 5,
      "outputs": [
        {
          "output_type": "stream",
          "text": "0 1 2 3 4 5 6 7 8 9 10 11 12 13 14 ",
          "name": "stdout"
        }
      ]
    },
    {
      "metadata": {
        "trusted": true
      },
      "cell_type": "code",
      "source": "usernames = ['Tom', 'Dick', 'Harry', 'Mary', 'Jane']\nfor username, id_number in zip(usernames, count(500, 0.1)):\n    print(f'{username}: {id_number}')",
      "execution_count": 10,
      "outputs": [
        {
          "output_type": "stream",
          "text": "Tom: 500\nDick: 500.1\nHarry: 500.20000000000005\nMary: 500.30000000000007\nJane: 500.4000000000001\n",
          "name": "stdout"
        }
      ]
    },
    {
      "metadata": {
        "trusted": true
      },
      "cell_type": "code",
      "source": "",
      "execution_count": null,
      "outputs": []
    }
  ],
  "metadata": {
    "kernelspec": {
      "name": "python36",
      "display_name": "Python 3.6",
      "language": "python"
    },
    "language_info": {
      "mimetype": "text/x-python",
      "nbconvert_exporter": "python",
      "name": "python",
      "pygments_lexer": "ipython3",
      "version": "3.6.6",
      "file_extension": ".py",
      "codemirror_mode": {
        "version": 3,
        "name": "ipython"
      }
    }
  },
  "nbformat": 4,
  "nbformat_minor": 2
}