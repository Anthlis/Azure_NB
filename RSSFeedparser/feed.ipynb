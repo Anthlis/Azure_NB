{
  "cells": [
    {
      "metadata": {
        "collapsed": true,
        "trusted": false
      },
      "cell_type": "code",
      "source": "",
      "execution_count": null,
      "outputs": []
    },
    {
      "metadata": {
        "trusted": true
      },
      "cell_type": "code",
      "source": "import collections\n# test\n# import webbrowser\n\nFeed = collections.namedtuple(\n    'Feed',\n    'name, url, xml')\n\ndef get_url():\n    data = [\n        Feed('Stuff News', 'https://www.stuff.co.nz/rss/', 'stuffnews.xml'),\n        Feed('MacRumors', 'http://feeds.macrumors.com/MacRumors-All', 'macrumors.xml'),\n        Feed('BBC UK News', 'http://newsrss.bbc.co.uk/rss/newsonline_uk_edition/front_page/rss.xml', 'bbcuk.xml')\n        ]\n    return data\n\ndef get_index():\n    for i, idx in enumerate(get_url(), start=1):\n        print(f\"{i}. {idx.name}\")\n    url_feed_index = input(\"\\nChoose the index number of the RSS feed to view: \")\n    print(f\"You entered index value: {idx.url}\", idx.url)\n    ### test will open url here\n    #webbrowser.open(idx.url, new=2)\n    #testurl = idx.url\n#    \n    if 0 < int(idx) <= len(idx):\n        get_specific_search_result = idx.url[int(idx)-1]\n        print(f\"Your browser will now open: \" + get_specific_search_result)\n        #web_url = get_specific_search_result.link\n        #webbrowser.open(web_url, new=2)\n    else:\n        pass # TODO here?\n    \n    return idx.url\n    \n        \nif __name__ == '__main__':\n    get_index()",
      "execution_count": 2,
      "outputs": [
        {
          "output_type": "stream",
          "text": "1. Stuff News\n2. MacRumors\n3. BBC UK News\n\nChoose the index number of the RSS feed to view: 3\nYou entered index value: http://newsrss.bbc.co.uk/rss/newsonline_uk_edition/front_page/rss.xml http://newsrss.bbc.co.uk/rss/newsonline_uk_edition/front_page/rss.xml\n",
          "name": "stdout"
        },
        {
          "output_type": "error",
          "ename": "TypeError",
          "evalue": "int() argument must be a string, a bytes-like object or a number, not 'Feed'",
          "traceback": [
            "\u001b[0;31m---------------------------------------------------------------------------\u001b[0m",
            "\u001b[0;31mTypeError\u001b[0m                                 Traceback (most recent call last)",
            "\u001b[0;32m<ipython-input-2-502056115878>\u001b[0m in \u001b[0;36m<module>\u001b[0;34m\u001b[0m\n\u001b[1;32m     36\u001b[0m \u001b[0;34m\u001b[0m\u001b[0m\n\u001b[1;32m     37\u001b[0m \u001b[0;32mif\u001b[0m \u001b[0m__name__\u001b[0m \u001b[0;34m==\u001b[0m \u001b[0;34m'__main__'\u001b[0m\u001b[0;34m:\u001b[0m\u001b[0;34m\u001b[0m\u001b[0m\n\u001b[0;32m---> 38\u001b[0;31m     \u001b[0mget_index\u001b[0m\u001b[0;34m(\u001b[0m\u001b[0;34m)\u001b[0m\u001b[0;34m\u001b[0m\u001b[0m\n\u001b[0m",
            "\u001b[0;32m<ipython-input-2-502056115878>\u001b[0m in \u001b[0;36mget_index\u001b[0;34m()\u001b[0m\n\u001b[1;32m     24\u001b[0m     \u001b[0;31m#testurl = idx.url\u001b[0m\u001b[0;34m\u001b[0m\u001b[0;34m\u001b[0m\u001b[0m\n\u001b[1;32m     25\u001b[0m \u001b[0;31m#\u001b[0m\u001b[0;34m\u001b[0m\u001b[0;34m\u001b[0m\u001b[0m\n\u001b[0;32m---> 26\u001b[0;31m     \u001b[0;32mif\u001b[0m \u001b[0;36m0\u001b[0m \u001b[0;34m<\u001b[0m \u001b[0mint\u001b[0m\u001b[0;34m(\u001b[0m\u001b[0midx\u001b[0m\u001b[0;34m)\u001b[0m \u001b[0;34m<=\u001b[0m \u001b[0mlen\u001b[0m\u001b[0;34m(\u001b[0m\u001b[0midx\u001b[0m\u001b[0;34m)\u001b[0m\u001b[0;34m:\u001b[0m\u001b[0;34m\u001b[0m\u001b[0m\n\u001b[0m\u001b[1;32m     27\u001b[0m         \u001b[0mget_specific_search_result\u001b[0m \u001b[0;34m=\u001b[0m \u001b[0midx\u001b[0m\u001b[0;34m.\u001b[0m\u001b[0murl\u001b[0m\u001b[0;34m[\u001b[0m\u001b[0mint\u001b[0m\u001b[0;34m(\u001b[0m\u001b[0midx\u001b[0m\u001b[0;34m)\u001b[0m\u001b[0;34m-\u001b[0m\u001b[0;36m1\u001b[0m\u001b[0;34m]\u001b[0m\u001b[0;34m\u001b[0m\u001b[0m\n\u001b[1;32m     28\u001b[0m         \u001b[0mprint\u001b[0m\u001b[0;34m(\u001b[0m\u001b[0;34mf\"Your browser will now open: \"\u001b[0m \u001b[0;34m+\u001b[0m \u001b[0mget_specific_search_result\u001b[0m\u001b[0;34m)\u001b[0m\u001b[0;34m\u001b[0m\u001b[0m\n",
            "\u001b[0;31mTypeError\u001b[0m: int() argument must be a string, a bytes-like object or a number, not 'Feed'"
          ]
        }
      ]
    },
    {
      "metadata": {
        "trusted": true
      },
      "cell_type": "code",
      "source": "",
      "execution_count": null,
      "outputs": []
    }
  ],
  "metadata": {
    "kernelspec": {
      "name": "python36",
      "display_name": "Python 3.6",
      "language": "python"
    },
    "language_info": {
      "mimetype": "text/x-python",
      "nbconvert_exporter": "python",
      "name": "python",
      "pygments_lexer": "ipython3",
      "version": "3.6.6",
      "file_extension": ".py",
      "codemirror_mode": {
        "version": 3,
        "name": "ipython"
      }
    }
  },
  "nbformat": 4,
  "nbformat_minor": 2
}