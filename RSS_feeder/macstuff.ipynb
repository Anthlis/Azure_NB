{
  "cells": [
    {
      "metadata": {
        "trusted": true
      },
      "cell_type": "code",
      "source": "import feedparser\nimport bs4\nimport pprint as pprint\npp = pprint.PrettyPrinter(width=200, compact=False)",
      "execution_count": 1,
      "outputs": []
    },
    {
      "metadata": {
        "trusted": true
      },
      "cell_type": "code",
      "source": "url = 'http://feeds.macrumors.com/MacRumors-All'\nfeed = feedparser.parse(url)\n# pp.pprint(feed)",
      "execution_count": 5,
      "outputs": []
    },
    {
      "metadata": {
        "trusted": true
      },
      "cell_type": "code",
      "source": "summaries = [item.get('id') for item in feed.get('entries')]\npp.pprint(summaries)",
      "execution_count": 6,
      "outputs": [
        {
          "output_type": "stream",
          "text": "['https://www.macrumors.com/2019/12/07/apple-releasing-mac-pro-december-10/',\n 'https://www.macrumors.com/2019/12/07/top-stories-kuo-2020-21-iphone-rumors/',\n 'https://www.macrumors.com/2019/12/06/apple-memo-iphone-11-smart-battery-cases/',\n 'https://www.macrumors.com/2019/12/06/apple-tv-plus-dickinson-cast-season-2/',\n 'https://www.macrumors.com/2019/12/06/apple-plans-fix-16-inch-macbook-pro-popping-sound/',\n 'https://www.macrumors.com/2019/12/06/cult-of-mac-second-edition/',\n 'https://www.macrumors.com/review/audi-a7-wireless-carplay&post_date=1575673474/',\n 'https://www.macrumors.com/2019/12/06/macrumors-giveaway-iphone-cases-speck/',\n 'https://www.macrumors.com/2019/12/06/apple-iphone-radiofrequency-radiation-lawsuit/',\n 'https://www.macrumors.com/2019/12/06/apple-seeds-macos-catalina-10-15-2-beta-4/',\n 'https://www.macrumors.com/2019/12/06/apple-park-cupertino-open-house/',\n 'https://www.macrumors.com/2019/12/06/iphone-se-2-might-be-iphone-9/',\n 'https://www.macrumors.com/2019/12/06/best-buys-apple-event/',\n 'https://www.macrumors.com/2019/12/06/saudi-aramco-to-overtake-apple-valuation/',\n 'https://www.macrumors.com/2019/12/06/truth-be-told-now-streaming-apple-tv-plus/',\n 'https://www.macrumors.com/2019/12/06/samsung-galaxy-s11-5x-optical-zoom-108mp-lens/',\n 'https://www.macrumors.com/2019/12/06/apple-tv-shows-lose-dolby-vision-hdr-apple-tv-4k/',\n 'https://www.macrumors.com/2019/12/05/apple-pay-promo-holiday-bonuses/',\n 'https://www.macrumors.com/2019/12/05/five-ios-apps-december-2019/',\n 'https://www.macrumors.com/2019/12/05/apple-seeds-ios-13-3-beta-4-to-developers/']\n",
          "name": "stdout"
        }
      ]
    },
    {
      "metadata": {
        "trusted": true
      },
      "cell_type": "code",
      "source": "",
      "execution_count": null,
      "outputs": []
    }
  ],
  "metadata": {
    "kernelspec": {
      "name": "python36",
      "display_name": "Python 3.6",
      "language": "python"
    },
    "language_info": {
      "mimetype": "text/x-python",
      "nbconvert_exporter": "python",
      "name": "python",
      "pygments_lexer": "ipython3",
      "version": "3.6.6",
      "file_extension": ".py",
      "codemirror_mode": {
        "version": 3,
        "name": "ipython"
      }
    }
  },
  "nbformat": 4,
  "nbformat_minor": 2
}