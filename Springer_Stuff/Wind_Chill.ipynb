{
  "cells": [
    {
      "metadata": {
        "trusted": true
      },
      "cell_type": "code",
      "source": "WC_OFFSET = 13.12\nWC_FACTOR_1 = 0.6215\nWC_FACTOR_2 = -11.37\nWC_FACTOR_3 = 0.3965\nWC_EXPONENT = 0.16",
      "execution_count": 1,
      "outputs": []
    },
    {
      "metadata": {
        "trusted": true
      },
      "cell_type": "code",
      "source": "temp = float(input(\"Enter the air temperature (deg Celsius): \"))\nspeed = float(input(\"Enter the wind speed (km/h): \"))",
      "execution_count": 6,
      "outputs": [
        {
          "output_type": "stream",
          "name": "stdout",
          "text": "Enter the air temperature (deg Celsius): 5\nEnter the wind speed (km/h): 10\n"
        }
      ]
    },
    {
      "metadata": {
        "trusted": true
      },
      "cell_type": "code",
      "source": "wci = WC_OFFSET + \\\n        WC_FACTOR_1 * temp + \\\n        WC_FACTOR_2 * speed ** WC_EXPONENT + \\\n        WC_FACTOR_3 * temp * speed ** WC_EXPONENT",
      "execution_count": 7,
      "outputs": []
    },
    {
      "metadata": {
        "trusted": true
      },
      "cell_type": "code",
      "source": "print(\"The wind chill index is\", round(wci))",
      "execution_count": 8,
      "outputs": [
        {
          "output_type": "stream",
          "text": "The wind chill index is 3\n",
          "name": "stdout"
        }
      ]
    },
    {
      "metadata": {
        "trusted": true
      },
      "cell_type": "code",
      "source": "",
      "execution_count": null,
      "outputs": []
    }
  ],
  "metadata": {
    "kernelspec": {
      "name": "python36",
      "display_name": "Python 3.6",
      "language": "python"
    },
    "language_info": {
      "mimetype": "text/x-python",
      "nbconvert_exporter": "python",
      "name": "python",
      "pygments_lexer": "ipython3",
      "version": "3.6.6",
      "file_extension": ".py",
      "codemirror_mode": {
        "version": 3,
        "name": "ipython"
      }
    }
  },
  "nbformat": 4,
  "nbformat_minor": 2
}