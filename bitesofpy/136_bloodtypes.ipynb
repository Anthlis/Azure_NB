{
  "cells": [
    {
      "metadata": {
        "collapsed": true,
        "trusted": false
      },
      "cell_type": "code",
      "source": "\"\"\"\nWrite a function which checks the red blood cell compatibility between donor and recipient.\nhttps://en.wikipedia.org/wiki/Blood_type#Red_blood_cell_compatibility\nFor simplicity, the appearance of 8 basic types of blood is considered.\nThe input of blood type can be in the form of:\n    pre defined Bloodtype enum e.g.: Bloodtype.ZERO_NEG\n    value of the pre-defined Bloodtype 0..7\n    pre defined text  e.g. \"0-\", \"B+\", \"AB+\", ...\n    If input value is not a required type TypeError is raised.\n    If input value is not in defined interval ValueError is raised.\nKeywords: enum, exception handling, multi type input\n\"\"\"\n\nfrom enum import Enum\n\n\nclass Bloodtype(Enum):\n    ZERO_NEG = 0\n    ZERO_POS = 1\n    B_NEG = 2\n    B_POS = 3\n    A_NEG = 4\n    A_POS = 5\n    AB_NEG = 6\n    AB_POS = 7\n\n\nblood_type_text = {\n    \"0-\": Bloodtype.ZERO_NEG,\n    \"0+\": Bloodtype.ZERO_POS,\n    \"B-\": Bloodtype.B_NEG,\n    \"B+\": Bloodtype.B_POS,\n    \"A-\": Bloodtype.A_NEG,\n    \"A+\": Bloodtype.A_POS,\n    \"AB-\": Bloodtype.AB_NEG,\n    \"AB+\": Bloodtype.AB_POS,\n}\n\n# complete :\ndef check_bt(donor, recipient):\n    \"\"\" Checks red blood cell compatibility based on 8 blood types\n        Args:\n        donor (int | str | Bloodtype): red blood cell type of the donor\n        recipient (int | str | Bloodtype): red blood cell type of the recipient\n        Returns:\n        bool: True for compatability, False otherwise.\n    \"\"\"\n    pass\n\n\n# hint\ndef _particular_antigen_comp(donor: int, recipient: int) -> tuple:\n    \"\"\"Returns a particalar antigen compatibility, where each tuple member\n    marks a compatibility for a particular antigen  (A, B, Rh-D).\n    If tuple member is non-negative there is a compatibility.\n    For red blood cell compatibility is required that \n    all tuple members are non-negative (i.e. compatibility for all 3 antigens).\n    0- bloodtype is represented as 0 ; AB+ is represented as 7; see Bloodtype enum\n    Examples:\n    _particular_antigen_comp(0, 7) -> (1, 1, 1)    0- can donate to AB+\n    _particular_antigen_comp(1, 3) -> (0, 1, 0)    0+ can donate to B+\n    _particular_antigen_comp(2, 5) -> (1, -1, 1)   B+ cannot donate to A+\n    _particular_antigen_comp(7, 0) -> (-1, -1, -1) AB+ cannot donate to 0-\n    \"\"\"\n    return (\n        ((recipient // 4) % 2) - ((donor // 4) % 2),\n        ((recipient // 2) % 2) - ((donor // 2) % 2),\n        (recipient % 2) - (donor % 2),\n    )",
      "execution_count": null,
      "outputs": []
    }
  ],
  "metadata": {
    "kernelspec": {
      "name": "python36",
      "display_name": "Python 3.6",
      "language": "python"
    },
    "language_info": {
      "mimetype": "text/x-python",
      "nbconvert_exporter": "python",
      "name": "python",
      "pygments_lexer": "ipython3",
      "version": "3.6.6",
      "file_extension": ".py",
      "codemirror_mode": {
        "version": 3,
        "name": "ipython"
      }
    }
  },
  "nbformat": 4,
  "nbformat_minor": 2
}