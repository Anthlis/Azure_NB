{
  "cells": [
    {
      "metadata": {
        "trusted": true
      },
      "cell_type": "code",
      "source": "NOT_FOUND = \"Not found\"\n\ngroup1 = {'tim': 30, 'bob': 17, 'ana': 24}\ngroup2 = {'ana': 26, 'thomas': 64, 'helen': 26}\ngroup3 = {'brenda': 17, 'otto': 44, 'thomas': 46}\n\n\ndef get_person_age(name):\n    \"\"\"Look up name (case insensitive search) and return age.\n       If name in > 1 dict, return the match of the group with\n       greatest N (so group3 > group2 > group1)\n    \"\"\"\n    single_dict = {**group1, **group2, **group3}\n    print(single_dict) # group 3 age should overwrite group 1 & 2 ages if duplicate\n    try:\n        return single_dict[name.lower()]\n    except:\n        return 'Not found'",
      "execution_count": 7,
      "outputs": []
    },
    {
      "metadata": {
        "trusted": true
      },
      "cell_type": "code",
      "source": "print(get_person_age('brenda'))",
      "execution_count": 8,
      "outputs": [
        {
          "output_type": "stream",
          "text": "{'tim': 30, 'bob': 17, 'ana': 26, 'thomas': 46, 'helen': 26, 'brenda': 17, 'otto': 44}\n17\n",
          "name": "stdout"
        }
      ]
    },
    {
      "metadata": {
        "trusted": true
      },
      "cell_type": "code",
      "source": "print(get_person_age('thomas'))",
      "execution_count": 9,
      "outputs": [
        {
          "output_type": "stream",
          "text": "{'tim': 30, 'bob': 17, 'ana': 26, 'thomas': 46, 'helen': 26, 'brenda': 17, 'otto': 44}\n46\n",
          "name": "stdout"
        }
      ]
    },
    {
      "metadata": {
        "trusted": true
      },
      "cell_type": "code",
      "source": "print(get_person_age('ana'))",
      "execution_count": 10,
      "outputs": [
        {
          "output_type": "stream",
          "text": "{'tim': 30, 'bob': 17, 'ana': 26, 'thomas': 46, 'helen': 26, 'brenda': 17, 'otto': 44}\n26\n",
          "name": "stdout"
        }
      ]
    },
    {
      "metadata": {
        "trusted": true
      },
      "cell_type": "code",
      "source": "",
      "execution_count": null,
      "outputs": []
    }
  ],
  "metadata": {
    "kernelspec": {
      "name": "python36",
      "display_name": "Python 3.6",
      "language": "python"
    },
    "language_info": {
      "mimetype": "text/x-python",
      "nbconvert_exporter": "python",
      "name": "python",
      "pygments_lexer": "ipython3",
      "version": "3.6.6",
      "file_extension": ".py",
      "codemirror_mode": {
        "version": 3,
        "name": "ipython"
      }
    }
  },
  "nbformat": 4,
  "nbformat_minor": 2
}