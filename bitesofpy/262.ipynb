{
  "cells": [
    {
      "metadata": {
        "trusted": true
      },
      "cell_type": "code",
      "source": "sequences=['AGTCTA','AGTCAGTCAGTCAGT','ACTAGCTAGCTA','ACGTCAGTATCGTATTTTA','ACAGTCAGTGATCA','AGT','AGCTAGCTAGCTACGATGCTAGCTAGC'] #create our list\nfor seq in sequences: #for each sequence in the list\n    length=len(seq) #calculate the length\n    Gcontent=seq.count('G') #count the number of Gs\n    Ccontent=seq.count('C') #count the number of Cs\n    Tcontent=seq.count('T') #count the number of Ts\n    Acontent=seq.count('A') #count the number of As\n    GCcontent=(Gcontent+Ccontent)/float(length) #calculate the GC content\n    print (\"GC content of %s is %.2f\" %(seq,GCcontent)) \n \n# GC content of AGTCTA is 0.333333\n# GC content of AGTCAGTCAGTCAGT is 0.466667\n# GC content of ACTAGCTAGCTA is 0.416667\n# GC content of ACGTCAGTATCGTATTTTA is 0.315789\n# GC content of ACAGTCAGTGATCA is 0.428571\n# GC content of AGT is 0.333333\n# GC content of AGCTAGCTAGCTACGATGCTAGCTAGC is 0.518519",
      "execution_count": 24,
      "outputs": [
        {
          "output_type": "stream",
          "text": "GC content of AGTCTA is 0.33\nGC content of AGTCAGTCAGTCAGT is 0.47\nGC content of ACTAGCTAGCTA is 0.42\nGC content of ACGTCAGTATCGTATTTTA is 0.32\nGC content of ACAGTCAGTGATCA is 0.43\nGC content of AGT is 0.33\nGC content of AGCTAGCTAGCTACGATGCTAGCTAGC is 0.52\n",
          "name": "stdout"
        }
      ]
    },
    {
      "metadata": {},
      "cell_type": "markdown",
      "source": "Example:\nDNA Sequence:\nAAAAAAAATTTTTTGGGGCC\nA=8, T=6, G=4, C=2, TOTAL = 20\nGC content = n(G|C) / n(A|C|G|T) = 6/20 = 3/10 => 30%"
    },
    {
      "metadata": {
        "trusted": true
      },
      "cell_type": "code",
      "source": "def calculate_gc_content_orig(sequence):\n    \"\"\"\n    Receives a DNA sequence (A, G, C, or T)\n    Returns the percentage of GC content (rounded to the last two digits)\n    \"\"\"\n    pass",
      "execution_count": 25,
      "outputs": []
    },
    {
      "metadata": {
        "trusted": true
      },
      "cell_type": "code",
      "source": "def calculate_gc_content(sequence):\n    \"\"\"\n    Receives a DNA sequence (A, G, C, or T)\n    Returns the percentage of GC content (rounded to the last two digits)\n    \"\"\"\n    for seq in sequence:\n        length=len(seq) #calculate the length\n        Gcontent=seq.count('G') #count the number of Gs\n        Ccontent=seq.count('C') #count the number of Cs\n        Tcontent=seq.count('T') #count the number of Ts\n        Acontent=seq.count('A') #count the number of As\n        GCcontent=((Gcontent+Ccontent)/float(length))*100 #calculate the GC content\n        # return (\"GC content of %s is %.2f\" %(seq,GCcontent))\n        # return f\"GC content of {seq} is {GCcontent:.2f}\"\n        return f\"{GCcontent:.2f}\"\n        \n# print(calculate_gc_content(['AAAAAAAATTTTTTGGGGCC']))     \n\nsequences=['AGTCTA','AGTCAGTCAGTCAGT','ACTAGCTAGCTA','ACGTCAGTATCGTATTTTA','ACAGTCAGTGATCA','AGT','AGCTAGCTAGCTACGATGCTAGCTAGC'] #create our list\nprint(calculate_gc_content(['AGCTAGCTAGCTACGATGCTAGCTAGC']))\n        ",
      "execution_count": 30,
      "outputs": [
        {
          "output_type": "stream",
          "text": "51.85\n",
          "name": "stdout"
        }
      ]
    },
    {
      "metadata": {
        "trusted": true
      },
      "cell_type": "code",
      "source": "from collections import Counter\n\n\ndef calculate_gc_content_pyb(seq):\n    \"\"\"\n    Receives a DNA sequence (A, G, C, or T)\n    Returns the percentage of GC content (rounded to the last two digits)\n    \"\"\"\n    c = Counter(seq.upper())\n    result = (c[\"G\"] + c[\"C\"]) / (c[\"A\"] + c[\"G\"] + c[\"C\"] + c[\"T\"]) * 100\n    return round(result, 2)",
      "execution_count": 31,
      "outputs": []
    },
    {
      "metadata": {
        "trusted": true
      },
      "cell_type": "code",
      "source": "seq = 'AGTCTA'+'AGTCAGTCAGTCAGT'",
      "execution_count": 32,
      "outputs": []
    },
    {
      "metadata": {
        "trusted": true
      },
      "cell_type": "code",
      "source": "print(calculate_gc_content_pyb(seq))",
      "execution_count": 33,
      "outputs": [
        {
          "output_type": "stream",
          "text": "42.86\n",
          "name": "stdout"
        }
      ]
    },
    {
      "metadata": {
        "trusted": true
      },
      "cell_type": "code",
      "source": "def is_armstrong(n: int) -> bool:\n    n_length = len(str(n))\n    sum = 0\n    tempp = n\n    while tempp > 0:\n        digitt = tempp % 10\n        sum += digitt ** n_length\n        tempp // 10\n#     if n == sum:\n#         return True\n#     else:\n#         return False\n    return (n == sum)\n    \n\nprint(is_armstrong(2))\n",
      "execution_count": null,
      "outputs": []
    },
    {
      "metadata": {
        "trusted": true
      },
      "cell_type": "code",
      "source": "# Function to check whether the given number is \n# Armstrong number or not \ndef isArmstrong (x):\n    n = order(x) \n    temp = x \n    sum1 = 0\n    while (temp!=0): \n        r = temp%10\n        sum1 = sum1 + power(r, n) \n        temp = temp//=10\n  \n    # If condition satisfies \n    return (sum1 == x) \n\n# Driver Program \nx = 153\nprint(isArmstrong(x))",
      "execution_count": 37,
      "outputs": [
        {
          "output_type": "error",
          "ename": "NameError",
          "evalue": "name 'order' is not defined",
          "traceback": [
            "\u001b[0;31m---------------------------------------------------------------------------\u001b[0m",
            "\u001b[0;31mNameError\u001b[0m                                 Traceback (most recent call last)",
            "\u001b[0;32m<ipython-input-37-ba20b1d0c489>\u001b[0m in \u001b[0;36m<module>\u001b[0;34m\u001b[0m\n\u001b[1;32m     15\u001b[0m \u001b[0;31m# Driver Program\u001b[0m\u001b[0;34m\u001b[0m\u001b[0;34m\u001b[0m\u001b[0m\n\u001b[1;32m     16\u001b[0m \u001b[0mx\u001b[0m \u001b[0;34m=\u001b[0m \u001b[0;36m153\u001b[0m\u001b[0;34m\u001b[0m\u001b[0m\n\u001b[0;32m---> 17\u001b[0;31m \u001b[0mprint\u001b[0m\u001b[0;34m(\u001b[0m\u001b[0misArmstrong\u001b[0m\u001b[0;34m(\u001b[0m\u001b[0mx\u001b[0m\u001b[0;34m)\u001b[0m\u001b[0;34m)\u001b[0m\u001b[0;34m\u001b[0m\u001b[0m\n\u001b[0m",
            "\u001b[0;32m<ipython-input-37-ba20b1d0c489>\u001b[0m in \u001b[0;36misArmstrong\u001b[0;34m(x)\u001b[0m\n\u001b[1;32m      2\u001b[0m \u001b[0;31m# Armstrong number or not\u001b[0m\u001b[0;34m\u001b[0m\u001b[0;34m\u001b[0m\u001b[0m\n\u001b[1;32m      3\u001b[0m \u001b[0;32mdef\u001b[0m \u001b[0misArmstrong\u001b[0m \u001b[0;34m(\u001b[0m\u001b[0mx\u001b[0m\u001b[0;34m)\u001b[0m\u001b[0;34m:\u001b[0m\u001b[0;34m\u001b[0m\u001b[0m\n\u001b[0;32m----> 4\u001b[0;31m     \u001b[0mn\u001b[0m \u001b[0;34m=\u001b[0m \u001b[0morder\u001b[0m\u001b[0;34m(\u001b[0m\u001b[0mx\u001b[0m\u001b[0;34m)\u001b[0m\u001b[0;34m\u001b[0m\u001b[0m\n\u001b[0m\u001b[1;32m      5\u001b[0m     \u001b[0mtemp\u001b[0m \u001b[0;34m=\u001b[0m \u001b[0mx\u001b[0m\u001b[0;34m\u001b[0m\u001b[0m\n\u001b[1;32m      6\u001b[0m     \u001b[0msum1\u001b[0m \u001b[0;34m=\u001b[0m \u001b[0;36m0\u001b[0m\u001b[0;34m\u001b[0m\u001b[0m\n",
            "\u001b[0;31mNameError\u001b[0m: name 'order' is not defined"
          ]
        }
      ]
    },
    {
      "metadata": {
        "trusted": true
      },
      "cell_type": "code",
      "source": "# program to check whether the given number is Armstrong or not using a while loop\nnum = int(input(\"Enter the number: \")) \nsum = 0 \ntemp = num \nwhile (temp > 0): \n    digit = temp % 10 \n    sum += digit ** 3 \n    temp //= 10 \nif (num == sum): \n    print(\"Armstrong number\") \nelse: \n    print(\"Not an Armstrong number\")",
      "execution_count": 41,
      "outputs": [
        {
          "output_type": "stream",
          "name": "stdout",
          "text": "Enter the number: 120\nNot an Armstrong number\n"
        }
      ]
    },
    {
      "metadata": {
        "trusted": true
      },
      "cell_type": "code",
      "source": "def is_armstrong(n: int) -> bool:\n    sum = 0\n    temp = n\n    while (temp > 0):\n        digit = temp % 10\n        sum += digit ** 3\n        temp //=10",
      "execution_count": null,
      "outputs": []
    }
  ],
  "metadata": {
    "kernelspec": {
      "name": "python36",
      "display_name": "Python 3.6",
      "language": "python"
    },
    "language_info": {
      "mimetype": "text/x-python",
      "nbconvert_exporter": "python",
      "name": "python",
      "pygments_lexer": "ipython3",
      "version": "3.6.6",
      "file_extension": ".py",
      "codemirror_mode": {
        "version": 3,
        "name": "ipython"
      }
    }
  },
  "nbformat": 4,
  "nbformat_minor": 2
}