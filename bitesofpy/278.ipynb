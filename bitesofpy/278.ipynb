{
  "cells": [
    {
      "metadata": {
        "trusted": true
      },
      "cell_type": "code",
      "source": "!pip install pysnooper",
      "execution_count": 5,
      "outputs": [
        {
          "output_type": "stream",
          "text": "Requirement already satisfied: pysnooper in /home/nbuser/anaconda3_501/lib/python3.6/site-packages (0.4.1)\n\u001b[33mWARNING: You are using pip version 19.3.1; however, version 20.1.1 is available.\nYou should consider upgrading via the 'pip install --upgrade pip' command.\u001b[0m\n",
          "name": "stdout"
        }
      ]
    },
    {
      "metadata": {
        "trusted": true
      },
      "cell_type": "code",
      "source": "from collections import Counter\n\ndef major_n_minor(numbers):\n    \"\"\"\n    Input: an array with integer numbers\n    Output: the majority and minority number\n    \"\"\"\n\n    # a majority number is the one appearing most frequently\n    major = max(set(numbers), key = numbers.count)\n    \n    # a minority number appears least frequently\n    cnt = Counter(numbers)\n    minor_cnt = min(cnt.values())\n    minor = next(n for n in reversed(numbers) if cnt[n] == minor_cnt)\n\n    return major, minor\n\nprint(major_n_minor([1, 2, 3, 2, 2, 2, 3]))                    # (2, 1)\nprint(major_n_minor([0, 0, 0, 1, 2, 2]))                       # (0, 1)\nprint(major_n_minor([9, 8, 7, 8, 8, 9]))                       # (8, 7)\nprint(major_n_minor([2, 0, 2, 0, 2, 1]))                       # (2, 1)\nprint(major_n_minor([1, 3, 5, 7, 8, 8, 9, 9, 3, 5, 8, 7]))     # (8, 1)\nprint(major_n_minor([9, 0, 5, 7, 8, 8, 9, 0, 5, 9, 9, 5]))     # (9, 7)\n\n# print(major_n_minor([2, 1, 2, 2, 1, 3]))\n# print(major_n_minor([1, 3, 5, 7, 8, 8, 9, 9, 3, 5, 8, 7]))\n# print(major_n_minor([9, 0, 5, 7, 8, 8, 9, 0, 5, 9, 9, 5])) # (9, 7)\n# print('test')",
      "execution_count": 19,
      "outputs": [
        {
          "output_type": "stream",
          "text": "(2, 1)\n(0, 1)\n(8, 7)\n(2, 1)\n(8, 1)\n(9, 7)\n",
          "name": "stdout"
        }
      ]
    },
    {
      "metadata": {
        "trusted": true
      },
      "cell_type": "code",
      "source": "import pysnooper\n\n@pysnooper.snoop()\ndef most_frequent(List): \n    return max(set(List), key = List.count) \n  \nList = [2, 1, 2, 2, 1, 3] \nprint(most_frequent(List)) ",
      "execution_count": 7,
      "outputs": [
        {
          "output_type": "stream",
          "text": "2\n",
          "name": "stdout"
        },
        {
          "output_type": "stream",
          "text": "Source path:... <ipython-input-7-116ae80618da>\nStarting var:.. List = [2, 1, 2, 2, 1, 3]\n04:30:05.060921 call         4 def most_frequent(List): \n04:30:05.061578 line         5     return max(set(List), key = List.count) \n04:30:05.067959 return       5     return max(set(List), key = List.count) \nReturn value:.. 2\nElapsed time: 00:00:00.007407\n",
          "name": "stderr"
        }
      ]
    },
    {
      "metadata": {
        "trusted": true
      },
      "cell_type": "code",
      "source": "import statistics \nfrom statistics import mode \n  \ndef most_common(List): \n    return(mode(List)) \n    \nList = [2, 1, 2, 2, 1, 3] \nprint(most_common(List)) ",
      "execution_count": 2,
      "outputs": [
        {
          "output_type": "stream",
          "text": "2\n",
          "name": "stdout"
        }
      ]
    },
    {
      "metadata": {
        "trusted": true
      },
      "cell_type": "code",
      "source": "from collections import Counter \n  \ndef most_frequent(List): \n    occurence_count = Counter(List) \n    return occurence_count.most_common(1)[0][0] \n    \nList = [2, 1, 2, 2, 1, 3] \nprint(most_frequent(List)) ",
      "execution_count": 3,
      "outputs": [
        {
          "output_type": "stream",
          "text": "2\n",
          "name": "stdout"
        }
      ]
    },
    {
      "metadata": {
        "trusted": true
      },
      "cell_type": "code",
      "source": "from collections import Counter\n\nlst = [1, 7, 2, 1, 2]\ncnt = Counter(lst)\nmincnt = min(cnt.values())\nminval = next(n for n in reversed(lst) if cnt[n] == mincnt)\n\nprint(minval) #7",
      "execution_count": 4,
      "outputs": [
        {
          "output_type": "stream",
          "text": "7\n",
          "name": "stdout"
        }
      ]
    },
    {
      "metadata": {
        "trusted": true
      },
      "cell_type": "code",
      "source": "",
      "execution_count": null,
      "outputs": []
    }
  ],
  "metadata": {
    "kernelspec": {
      "name": "python36",
      "display_name": "Python 3.6",
      "language": "python"
    },
    "language_info": {
      "mimetype": "text/x-python",
      "nbconvert_exporter": "python",
      "name": "python",
      "pygments_lexer": "ipython3",
      "version": "3.6.6",
      "file_extension": ".py",
      "codemirror_mode": {
        "version": 3,
        "name": "ipython"
      }
    }
  },
  "nbformat": 4,
  "nbformat_minor": 2
}