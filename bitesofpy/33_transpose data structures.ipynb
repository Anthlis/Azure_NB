{
  "cells": [
    {
      "metadata": {
        "collapsed": true
      },
      "cell_type": "markdown",
      "source": "https://stackoverflow.com/questions/209840/convert-two-lists-into-a-dictionary"
    },
    {
      "metadata": {
        "trusted": true
      },
      "cell_type": "code",
      "source": "keys = ['a', 'b', 'c']\nvalues = [1, 2, 3]\ndictionary = dict(zip(keys, values))\nprint(dictionary)",
      "execution_count": 1,
      "outputs": [
        {
          "output_type": "stream",
          "text": "{'a': 1, 'b': 2, 'c': 3}\n",
          "name": "stdout"
        }
      ]
    },
    {
      "metadata": {},
      "cell_type": "markdown",
      "source": "Similarly, for:"
    },
    {
      "metadata": {
        "trusted": true
      },
      "cell_type": "code",
      "source": "\"\"\"Transpose a data structure\n    1. dict\n    data = {'2017-8': 19, '2017-9': 13}\n    In:  transpose(data)\n    Out: [('2017-8', '2017-9'), (19, 13)]\n    2. list of (named)tuples\n    data = [Member(name='Bob', since_days=60, karma_points=60,\n                   bitecoin_earned=56),\n            Member(name='Julian', since_days=221, karma_points=34,\n                   bitecoin_earned=78)]\n    In: transpose(data)\n    Out: [('Bob', 'Julian'), (60, 221), (60, 34), (56, 78)]\n    \"\"\"\n",
      "execution_count": 6,
      "outputs": [
        {
          "output_type": "execute_result",
          "execution_count": 6,
          "data": {
            "text/plain": "\"Transpose a data structure\\n    1. dict\\n    data = {'2017-8': 19, '2017-9': 13}\\n    In:  transpose(data)\\n    Out: [('2017-8', '2017-9'), (19, 13)]\\n    2. list of (named)tuples\\n    data = [Member(name='Bob', since_days=60, karma_points=60,\\n                   bitecoin_earned=56),\\n            Member(name='Julian', since_days=221, karma_points=34,\\n                   bitecoin_earned=78)]\\n    In: transpose(data)\\n    Out: [('Bob', 'Julian'), (60, 221), (60, 34), (56, 78)]\\n    \""
          },
          "metadata": {}
        }
      ]
    },
    {
      "metadata": {
        "trusted": true
      },
      "cell_type": "code",
      "source": "# data = {'2017-8': 19, '2017-9':13}\n\ndata = [Member(name='Bob', since_days=60, karma_points=60, bitecoin_earned=56),Member(name='Julian', since_days=221, karma_points=34, bitecoin_earned=78)]",
      "execution_count": 22,
      "outputs": [
        {
          "output_type": "error",
          "ename": "NameError",
          "evalue": "name 'Member' is not defined",
          "traceback": [
            "\u001b[0;31m---------------------------------------------------------------------------\u001b[0m",
            "\u001b[0;31mNameError\u001b[0m                                 Traceback (most recent call last)",
            "\u001b[0;32m<ipython-input-22-fa683d900079>\u001b[0m in \u001b[0;36m<module>\u001b[0;34m\u001b[0m\n\u001b[1;32m      1\u001b[0m \u001b[0;31m# data = {'2017-8': 19, '2017-9':13}\u001b[0m\u001b[0;34m\u001b[0m\u001b[0;34m\u001b[0m\u001b[0m\n\u001b[1;32m      2\u001b[0m \u001b[0;34m\u001b[0m\u001b[0m\n\u001b[0;32m----> 3\u001b[0;31m \u001b[0mdata\u001b[0m \u001b[0;34m=\u001b[0m \u001b[0;34m[\u001b[0m\u001b[0mMember\u001b[0m\u001b[0;34m(\u001b[0m\u001b[0mname\u001b[0m\u001b[0;34m=\u001b[0m\u001b[0;34m'Bob'\u001b[0m\u001b[0;34m,\u001b[0m \u001b[0msince_days\u001b[0m\u001b[0;34m=\u001b[0m\u001b[0;36m60\u001b[0m\u001b[0;34m,\u001b[0m \u001b[0mkarma_points\u001b[0m\u001b[0;34m=\u001b[0m\u001b[0;36m60\u001b[0m\u001b[0;34m,\u001b[0m \u001b[0mbitecoin_earned\u001b[0m\u001b[0;34m=\u001b[0m\u001b[0;36m56\u001b[0m\u001b[0;34m)\u001b[0m\u001b[0;34m,\u001b[0m\u001b[0mMember\u001b[0m\u001b[0;34m(\u001b[0m\u001b[0mname\u001b[0m\u001b[0;34m=\u001b[0m\u001b[0;34m'Julian'\u001b[0m\u001b[0;34m,\u001b[0m \u001b[0msince_days\u001b[0m\u001b[0;34m=\u001b[0m\u001b[0;36m221\u001b[0m\u001b[0;34m,\u001b[0m \u001b[0mkarma_points\u001b[0m\u001b[0;34m=\u001b[0m\u001b[0;36m34\u001b[0m\u001b[0;34m,\u001b[0m \u001b[0mbitecoin_earned\u001b[0m\u001b[0;34m=\u001b[0m\u001b[0;36m78\u001b[0m\u001b[0;34m)\u001b[0m\u001b[0;34m]\u001b[0m\u001b[0;34m\u001b[0m\u001b[0m\n\u001b[0m",
            "\u001b[0;31mNameError\u001b[0m: name 'Member' is not defined"
          ]
        }
      ]
    },
    {
      "metadata": {
        "trusted": true
      },
      "cell_type": "code",
      "source": "new_data = list(zip(*data))\nprint(new_data)",
      "execution_count": 23,
      "outputs": [
        {
          "output_type": "stream",
          "text": "[('2', '2'), ('0', '0'), ('1', '1'), ('7', '7'), ('-', '-'), ('8', '9')]\n",
          "name": "stdout"
        }
      ]
    },
    {
      "metadata": {
        "trusted": true
      },
      "cell_type": "code",
      "source": "if type(data) is list:\n    new_data2 = list(map(*data))\nelse:\n    new_data2 = [tuple(data.keys()), tuple(data.values())]\nprint(new_data2)",
      "execution_count": 24,
      "outputs": [
        {
          "output_type": "stream",
          "text": "[('2017-8', '2017-9'), (19, 13)]\n",
          "name": "stdout"
        }
      ]
    },
    {
      "metadata": {
        "trusted": true
      },
      "cell_type": "code",
      "source": "",
      "execution_count": null,
      "outputs": []
    },
    {
      "metadata": {
        "trusted": true
      },
      "cell_type": "code",
      "source": "zip and map",
      "execution_count": 9,
      "outputs": [
        {
          "output_type": "execute_result",
          "execution_count": 9,
          "data": {
            "text/plain": "map"
          },
          "metadata": {}
        }
      ]
    },
    {
      "metadata": {
        "trusted": true
      },
      "cell_type": "code",
      "source": "a = [1,2,3]\nb = ['a','b','c','d']\nprint(zip(a, b))\n# expect [(1, 'a'), (2, 'b'), (3, 'c')]\n",
      "execution_count": 16,
      "outputs": [
        {
          "output_type": "stream",
          "text": "<zip object at 0x7fc66d6dbc08>\n",
          "name": "stdout"
        }
      ]
    },
    {
      "metadata": {
        "trusted": true
      },
      "cell_type": "code",
      "source": "print(map(None,a,b))\n# [(1, 'a'), (2, 'b'), (3, 'c'), (None, 'd')]",
      "execution_count": 13,
      "outputs": [
        {
          "output_type": "stream",
          "text": "<map object at 0x7fc66d6e42e8>\n",
          "name": "stdout"
        }
      ]
    },
    {
      "metadata": {
        "trusted": true
      },
      "cell_type": "code",
      "source": "",
      "execution_count": null,
      "outputs": []
    }
  ],
  "metadata": {
    "kernelspec": {
      "name": "python36",
      "display_name": "Python 3.6",
      "language": "python"
    },
    "language_info": {
      "mimetype": "text/x-python",
      "nbconvert_exporter": "python",
      "name": "python",
      "pygments_lexer": "ipython3",
      "version": "3.6.6",
      "file_extension": ".py",
      "codemirror_mode": {
        "version": 3,
        "name": "ipython"
      }
    }
  },
  "nbformat": 4,
  "nbformat_minor": 2
}