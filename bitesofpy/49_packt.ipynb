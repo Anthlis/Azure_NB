{
  "cells": [
    {
      "metadata": {
        "trusted": true
      },
      "cell_type": "code",
      "source": "from collections import namedtuple\n\nfrom bs4 import BeautifulSoup as Soup\nimport requests\n\nPACKT = 'https://bites-data.s3.us-east-2.amazonaws.com/packt.html'\nCONTENT = requests.get(PACKT).text\n\nBook = namedtuple('Book', 'title description image link')\n\n\ndef get_book():\n    \"\"\"make a Soup object, parse the relevant html sections, and return a Book namedtuple\"\"\"\n    pass",
      "execution_count": 1,
      "outputs": []
    },
    {
      "metadata": {
        "trusted": true
      },
      "cell_type": "code",
      "source": "if __name__ == \"__main__\":\n    print(get_book())",
      "execution_count": 2,
      "outputs": [
        {
          "output_type": "stream",
          "text": "None\n",
          "name": "stdout"
        }
      ]
    },
    {
      "metadata": {
        "trusted": true
      },
      "cell_type": "code",
      "source": "from collections import namedtuple\n\nfrom bs4 import BeautifulSoup as Soup\nimport requests\n\nCONTENT = requests.get('http://bit.ly/2EN2Ntv').text\n#CONTENT = 'pcc_packt-free.txt'\n\nBook = namedtuple('Book', 'title description image link')\n\n\ndef get_book():\n    \"\"\"make a Soup object, parse the relevant html sections, and return a Book namedtuple\"\"\"\n    soup = Soup(CONTENT, 'html.parser')\n    title = soup.find('div', class_=\"dotd-title\").h2.text.strip()\n    description = soup.find('div', class_=\"dotd-main-book-summary float-left\").find_all('div')[2].text.strip()\n    image = soup.find('div', class_=\"dotd-main-book-image float-left\").a.\\\n            noscript.find('img', class_=\"bookimage imagecache imagecache-dotd_main_image\")['src']\n    link = soup.find('div', class_=\"dotd-main-book-image float-left\").find('a')['href']\n    return Book(title=title, description=description, image=image, link=link)\n\n\nif __name__ == \"__main__\":\n    print(get_book())",
      "execution_count": 3,
      "outputs": [
        {
          "output_type": "stream",
          "text": "Book(title='Mastering TypeScript - Second Edition', description='Build enterprise-ready, industrial-strength web applications using TypeScript and leading JavaScript frameworks', image='//d1ldz4te4covpm.cloudfront.net/sites/default/files/imagecache/dotd_main_image/B05588.png', link='/application-development/mastering-typescript-second-edition')\n",
          "name": "stdout"
        }
      ]
    },
    {
      "metadata": {
        "trusted": true
      },
      "cell_type": "code",
      "source": "from collections import namedtuple\n\nfrom bs4 import BeautifulSoup as Soup\nimport requests\n\nCONTENT = requests.get(\"http://bit.ly/2EN2Ntv\").text\n\nBook = namedtuple(\"Book\", \"title description image link\")\n\n\ndef get_book():\n    \"\"\"make a Soup object, parse the relevant html sections, and return a Book namedtuple\"\"\"\n    soup = Soup(CONTENT, \"html.parser\")\n    title = soup.find(class_=\"dotd-title\").find(\"h2\").text.strip()\n    desc = soup.find(class_=\"dotd-main-book-summary\").find_all(\"div\")[2].text.strip()\n    img = soup.find(class_=\"dotd-main-book-image\").find(\"img\").get(\"src\")\n    link = soup.find(class_=\"dotd-main-book-image\").find(\"a\").get(\"href\")\n\n    return Book(title, desc, img, link)\n\nif __name__ == \"__main__\":\n    print(get_book())",
      "execution_count": 4,
      "outputs": [
        {
          "output_type": "stream",
          "text": "Book(title='Mastering TypeScript - Second Edition', description='Build enterprise-ready, industrial-strength web applications using TypeScript and leading JavaScript frameworks', image='//d1ldz4te4covpm.cloudfront.net/sites/default/files/imagecache/dotd_main_image/B05588.png', link='/application-development/mastering-typescript-second-edition')\n",
          "name": "stdout"
        }
      ]
    },
    {
      "metadata": {
        "trusted": true
      },
      "cell_type": "code",
      "source": "",
      "execution_count": null,
      "outputs": []
    }
  ],
  "metadata": {
    "kernelspec": {
      "name": "python36",
      "display_name": "Python 3.6",
      "language": "python"
    },
    "language_info": {
      "mimetype": "text/x-python",
      "nbconvert_exporter": "python",
      "name": "python",
      "pygments_lexer": "ipython3",
      "version": "3.6.6",
      "file_extension": ".py",
      "codemirror_mode": {
        "version": 3,
        "name": "ipython"
      }
    }
  },
  "nbformat": 4,
  "nbformat_minor": 2
}