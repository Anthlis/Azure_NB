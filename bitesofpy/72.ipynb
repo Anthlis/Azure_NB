{
  "cells": [
    {
      "metadata": {
        "trusted": true
      },
      "cell_type": "code",
      "source": "!pip install pysnooper",
      "execution_count": 34,
      "outputs": [
        {
          "output_type": "stream",
          "text": "Collecting pysnooper\n  Downloading https://files.pythonhosted.org/packages/7c/1a/3cf2cba698b2a9ad2fb6b4727ce4e51c3ad91ebd74a6629940a26c732a65/PySnooper-0.4.1-py2.py3-none-any.whl\nInstalling collected packages: pysnooper\nSuccessfully installed pysnooper-0.4.1\n\u001b[33mWARNING: You are using pip version 19.3.1; however, version 20.1.1 is available.\nYou should consider upgrading via the 'pip install --upgrade pip' command.\u001b[0m\n",
          "name": "stdout"
        }
      ]
    },
    {
      "metadata": {
        "trusted": true
      },
      "cell_type": "code",
      "source": "import pysnooper\nfrom pprint import pprint as pp\nfrom collections import OrderedDict",
      "execution_count": 2,
      "outputs": []
    },
    {
      "metadata": {
        "trusted": true
      },
      "cell_type": "code",
      "source": "scores = [10, 50, 100, 175, 250, 400, 600, 800, 1000]\nbelts = 'white yellow orange green blue brown black paneled red'.split()\nHONORS = zip(scores, belts)\n\n\ndef get_belt(user_score):\n    pass",
      "execution_count": 3,
      "outputs": []
    },
    {
      "metadata": {
        "trusted": true
      },
      "cell_type": "code",
      "source": "pp(HONORS)",
      "execution_count": 4,
      "outputs": [
        {
          "output_type": "stream",
          "text": "<zip object at 0x7f4a5d5b6688>\n",
          "name": "stdout"
        }
      ]
    },
    {
      "metadata": {
        "trusted": true
      },
      "cell_type": "code",
      "source": "type(HONORS)",
      "execution_count": 5,
      "outputs": [
        {
          "output_type": "execute_result",
          "execution_count": 5,
          "data": {
            "text/plain": "zip"
          },
          "metadata": {}
        }
      ]
    },
    {
      "metadata": {
        "trusted": true
      },
      "cell_type": "code",
      "source": "HONORS = OrderedDict(zip(scores, belts))   \n# An OrderedDict is a dictionary subclass that remembers the order in which its contents are added.\npp(list(HONORS))",
      "execution_count": 6,
      "outputs": [
        {
          "output_type": "stream",
          "text": "[10, 50, 100, 175, 250, 400, 600, 800, 1000]\n",
          "name": "stdout"
        }
      ]
    },
    {
      "metadata": {
        "trusted": true
      },
      "cell_type": "code",
      "source": "score_keys = list(HONORS.keys())\nprint(score_keys)",
      "execution_count": 7,
      "outputs": [
        {
          "output_type": "stream",
          "text": "[10, 50, 100, 175, 250, 400, 600, 800, 1000]\n",
          "name": "stdout"
        }
      ]
    },
    {
      "metadata": {
        "trusted": true
      },
      "cell_type": "code",
      "source": "last_key = score_keys.pop()\nprint(last_key)",
      "execution_count": 8,
      "outputs": [
        {
          "output_type": "stream",
          "text": "1000\n",
          "name": "stdout"
        }
      ]
    },
    {
      "metadata": {
        "trusted": true
      },
      "cell_type": "code",
      "source": "for i in range(len(score_keys)):\n    print(i)",
      "execution_count": 9,
      "outputs": [
        {
          "output_type": "stream",
          "text": "0\n1\n2\n3\n4\n5\n6\n7\n",
          "name": "stdout"
        }
      ]
    },
    {
      "metadata": {
        "trusted": true
      },
      "cell_type": "code",
      "source": "last_key = score_keys.pop()\nprint(last_key)",
      "execution_count": 10,
      "outputs": [
        {
          "output_type": "stream",
          "text": "800\n",
          "name": "stdout"
        }
      ]
    },
    {
      "metadata": {
        "trusted": true
      },
      "cell_type": "code",
      "source": "last_key = score_keys.pop()\nprint(last_key)",
      "execution_count": 11,
      "outputs": [
        {
          "output_type": "stream",
          "text": "600\n",
          "name": "stdout"
        }
      ]
    },
    {
      "metadata": {
        "trusted": true
      },
      "cell_type": "code",
      "source": "for i in range(len(score_keys)):\n    print(i)",
      "execution_count": 12,
      "outputs": [
        {
          "output_type": "stream",
          "text": "0\n1\n2\n3\n4\n5\n",
          "name": "stdout"
        }
      ]
    },
    {
      "metadata": {
        "trusted": true
      },
      "cell_type": "code",
      "source": "# @pysnooper.snoop()\nscore_keys=[]\ndef get_belt(user_score):\n    score_keys = list(HONORS.keys())\n    for i in range(len(score_keys)):\n        last_key = score_keys.pop()\n        print(last_key)\n        if user_score >= last_key:\n            print(HONORS[last_key])\n            return HONORS[last_key]\n    return None\n\n\n\nif __name__ == \"__main__\":\n    test_scores = [5,13,52]\n    for i in test_scores:\n        print(get_belt(i))\n#     test_scores = [0,9,10,48,50,101,249,250,251,400,599,600,788,800,999,1000,1200]\n#     for i in test_scores:\n#         print(get_belt(i))",
      "execution_count": 16,
      "outputs": [
        {
          "output_type": "stream",
          "text": "1000\n800\n600\n400\n250\n175\n100\n50\n10\nNone\n1000\n800\n600\n400\n250\n175\n100\n50\n10\nwhite\nwhite\n1000\n800\n600\n400\n250\n175\n100\n50\nyellow\nyellow\n",
          "name": "stdout"
        }
      ]
    },
    {
      "metadata": {
        "trusted": true
      },
      "cell_type": "code",
      "source": "",
      "execution_count": null,
      "outputs": []
    },
    {
      "metadata": {
        "trusted": true
      },
      "cell_type": "code",
      "source": "",
      "execution_count": null,
      "outputs": []
    }
  ],
  "metadata": {
    "kernelspec": {
      "name": "python36",
      "display_name": "Python 3.6",
      "language": "python"
    },
    "language_info": {
      "mimetype": "text/x-python",
      "nbconvert_exporter": "python",
      "name": "python",
      "pygments_lexer": "ipython3",
      "version": "3.6.6",
      "file_extension": ".py",
      "codemirror_mode": {
        "version": 3,
        "name": "ipython"
      }
    }
  },
  "nbformat": 4,
  "nbformat_minor": 2
}