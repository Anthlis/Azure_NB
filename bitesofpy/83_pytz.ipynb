{
  "cells": [
    {
      "metadata": {
        "trusted": true
      },
      "cell_type": "code",
      "source": "from pytz import timezone, utc\n\nAUSTRALIA = timezone('Australia/Sydney')\nSPAIN = timezone('Europe/Madrid')\n\n\ndef what_time_lives_pybites(naive_utc_dt):\n    \"\"\"Receives a naive UTC datetime object and returns a two element\n       tuple of Australian and Spanish (timezone aware) datetimes\"\"\"\n    pass",
      "execution_count": 5,
      "outputs": []
    },
    {
      "metadata": {
        "trusted": true
      },
      "cell_type": "code",
      "source": "from datetime import datetime\n\nfrom timezone import what_time_lives_pybites\n\n\ndef test_what_time_lives_pybites_spanish_summertime():\n    # AUS is 8 hours ahead of ES\n    naive_utc_dt = datetime(2018, 4, 27, 22, 55, 0)\n    aus_dt, es_dt = what_time_lives_pybites(naive_utc_dt)\n\n    assert aus_dt.year == 2018\n    assert aus_dt.month == 4\n    assert aus_dt.day == 28\n    assert aus_dt.hour == 8\n    assert aus_dt.minute == 55\n\n    assert es_dt.year == 2018\n    assert es_dt.month == 4\n    assert es_dt.day == 28\n    assert es_dt.hour == 0\n    assert es_dt.minute == 55\n\n\ndef test_what_time_lives_pybites_spanish_wintertime():\n    # AUS is 10 hours ahead of ES\n    naive_utc_dt = datetime(2018, 11, 1, 14, 10, 0)\n    aus_dt, es_dt = what_time_lives_pybites(naive_utc_dt)\n\n    assert aus_dt.year == 2018\n    assert aus_dt.month == 11\n    assert aus_dt.day == 2\n    assert aus_dt.hour == 1\n    assert aus_dt.minute == 10\n\n    assert es_dt.year == 2018\n    assert es_dt.month == 11\n    assert es_dt.day == 1\n    assert es_dt.hour == 15\n    assert es_dt.minute == 10",
      "execution_count": null,
      "outputs": []
    },
    {
      "metadata": {},
      "cell_type": "markdown",
      "source": "### http://pytz.sourceforge.net/"
    },
    {
      "metadata": {
        "trusted": true
      },
      "cell_type": "code",
      "source": "from datetime import datetime, timedelta\nfrom pytz import timezone\nimport pytz",
      "execution_count": 7,
      "outputs": []
    },
    {
      "metadata": {
        "trusted": true
      },
      "cell_type": "code",
      "source": "utc = pytz.utc",
      "execution_count": 8,
      "outputs": []
    },
    {
      "metadata": {
        "trusted": true
      },
      "cell_type": "code",
      "source": "utc.zone",
      "execution_count": 9,
      "outputs": [
        {
          "output_type": "execute_result",
          "execution_count": 9,
          "data": {
            "text/plain": "'UTC'"
          },
          "metadata": {}
        }
      ]
    },
    {
      "metadata": {
        "trusted": true
      },
      "cell_type": "code",
      "source": "NZ = timezone('NZ')",
      "execution_count": 11,
      "outputs": []
    },
    {
      "metadata": {
        "trusted": true
      },
      "cell_type": "code",
      "source": "from pytz import timezone, utc\nfrom datetime import datetime\n\n\nAUSTRALIA = timezone('Australia/Sydney')\nSPAIN = timezone('Europe/Madrid')\n\n\ndef what_time_lives_pybites(naive_utc_dt):\n    \"\"\"Receives a naive UTC datetime object and returns a two element\n       tuple of Australian and Spanish (timezone aware) datetimes\"\"\"\n    utc_dt = datetime(naive_utc_dt.year,\n                      naive_utc_dt.month,\n                      naive_utc_dt.day,\n                      naive_utc_dt.hour,\n                      naive_utc_dt.minute,\n                      0, \n                      tzinfo=utc)\n                      \n    return(utc_dt.astimezone(AUSTRALIA),\n           utc_dt.astimezone(SPAIN))",
      "execution_count": 1,
      "outputs": []
    },
    {
      "metadata": {
        "trusted": true
      },
      "cell_type": "code",
      "source": "what_time_lives_pybites(naive_utc_dt)",
      "execution_count": 4,
      "outputs": [
        {
          "output_type": "error",
          "ename": "NameError",
          "evalue": "name 'naive_utc_dt' is not defined",
          "traceback": [
            "\u001b[0;31m---------------------------------------------------------------------------\u001b[0m",
            "\u001b[0;31mNameError\u001b[0m                                 Traceback (most recent call last)",
            "\u001b[0;32m<ipython-input-4-46da7c89edb8>\u001b[0m in \u001b[0;36m<module>\u001b[0;34m\u001b[0m\n\u001b[0;32m----> 1\u001b[0;31m \u001b[0mwhat_time_lives_pybites\u001b[0m\u001b[0;34m(\u001b[0m\u001b[0mnaive_utc_dt\u001b[0m\u001b[0;34m)\u001b[0m\u001b[0;34m\u001b[0m\u001b[0m\n\u001b[0m",
            "\u001b[0;31mNameError\u001b[0m: name 'naive_utc_dt' is not defined"
          ]
        }
      ]
    },
    {
      "metadata": {
        "trusted": true
      },
      "cell_type": "code",
      "source": "",
      "execution_count": null,
      "outputs": []
    },
    {
      "metadata": {
        "trusted": true
      },
      "cell_type": "code",
      "source": "",
      "execution_count": null,
      "outputs": []
    }
  ],
  "metadata": {
    "kernelspec": {
      "name": "python36",
      "display_name": "Python 3.6",
      "language": "python"
    },
    "language_info": {
      "mimetype": "text/x-python",
      "nbconvert_exporter": "python",
      "name": "python",
      "pygments_lexer": "ipython3",
      "version": "3.6.6",
      "file_extension": ".py",
      "codemirror_mode": {
        "version": 3,
        "name": "ipython"
      }
    }
  },
  "nbformat": 4,
  "nbformat_minor": 2
}