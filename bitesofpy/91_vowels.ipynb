{
  "cells": [
    {
      "metadata": {
        "trusted": true
      },
      "cell_type": "code",
      "source": "import pytest\n\nfrom anyall import (contains_only_vowels,\n                    contains_any_py_chars,\n                    contains_digits)\n\n\n@pytest.mark.parametrize(\"arg, expected\", [\n    ('aioue', True),\n    ('EoUia', True),\n    ('aaAiIee', True),\n    ('AEIOU', True),\n    ('aaeeouu', True),\n    ('abcde', False),\n    ('AE123', False),\n    ('AiOuef', False),\n])\ndef test_contains_only_vowels(arg, expected):\n    assert bool(contains_only_vowels(arg)) is expected\n\n\n@pytest.mark.parametrize(\"arg, expected\", [\n    ('Python', True),\n    ('pycharm', True),\n    ('PYTHON', True),\n    ('teaser', True),\n    ('bob', True),\n    ('julian', True),\n    ('yes', True),\n    ('no', True),\n    ('america', False),\n    ('B@b', False),\n    ('Jules', False),\n    ('agua', False),\n    ('123', False),\n    ('', False),\n])\ndef test_contains_any_py_chars(arg, expected):\n    assert bool(contains_any_py_chars(arg)) is expected\n\n\n@pytest.mark.parametrize(\"arg, expected\", [\n    ('yes1', True),\n    ('123', True),\n    ('hello2', True),\n    ('up2date', True),\n    ('yes', False),\n    ('hello', False),\n    ('', False),\n])\ndef test_contains_digits(arg, expected):\n    assert bool(contains_digits(arg)) is expected",
      "execution_count": null,
      "outputs": []
    },
    {
      "metadata": {
        "trusted": true
      },
      "cell_type": "code",
      "source": "VOWELS = 'aeiou'\nPYTHON = 'python'\n\n\ndef contains_only_vowels(input_str):\n    \"\"\"Receives input string and checks if all chars are\n       VOWELS. Match is case insensitive.\"\"\"\n    pass\n\n\ndef contains_any_py_chars(input_str):\n    \"\"\"Receives input string and checks if any of the PYTHON\n       chars are in it. Match is case insensitive.\"\"\"\n    pass\n\n\ndef contains_digits(input_str):\n    \"\"\"Receives input string and checks if it contains\n       one or more digits.\"\"\"\n    pass",
      "execution_count": 1,
      "outputs": []
    },
    {
      "metadata": {
        "trusted": true
      },
      "cell_type": "code",
      "source": "import re\n\nVOWELS = list(\"aeiou\")\nPYTHON = list(\"python\")\n\n\ndef contains_only_vowels(input_str):\n    \"\"\"Receives input string and checks if all chars are\n       VOWELS. Match is case insensitive.\"\"\"\n    return all(char in VOWELS for char in list(input_str.lower()))\n\n\ndef contains_any_py_chars(input_str):\n    \"\"\"Receives input string and checks if any of the PYTHON\n       chars are in it. Match is case insensitive.\"\"\"\n    return any(char in PYTHON for char in list(input_str.lower()))\n\n\ndef contains_digits(input_str):\n    \"\"\"Receives input string and checks if it contains\n       one or more digits.\"\"\"\n    return any(char for char in re.findall(r\"\\d+\", input_str))",
      "execution_count": 2,
      "outputs": []
    },
    {
      "metadata": {
        "trusted": true
      },
      "cell_type": "code",
      "source": "",
      "execution_count": null,
      "outputs": []
    }
  ],
  "metadata": {
    "kernelspec": {
      "name": "python36",
      "display_name": "Python 3.6",
      "language": "python"
    },
    "language_info": {
      "mimetype": "text/x-python",
      "nbconvert_exporter": "python",
      "name": "python",
      "pygments_lexer": "ipython3",
      "version": "3.6.6",
      "file_extension": ".py",
      "codemirror_mode": {
        "version": 3,
        "name": "ipython"
      }
    }
  },
  "nbformat": 4,
  "nbformat_minor": 2
}