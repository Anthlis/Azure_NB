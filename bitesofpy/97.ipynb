{
  "cells": [
    {
      "metadata": {
        "collapsed": true,
        "trusted": false
      },
      "cell_type": "code",
      "source": "from collections import defaultdict\nimport os\nimport re\nfrom urllib.request import urlretrieve\n\nfrom bs4 import BeautifulSoup as Soup\n\n\n# prep data\nholidays_page = os.path.join('/tmp', 'us_holidays.php')\nurlretrieve('https://bit.ly/2LG098I', holidays_page)\n\nwith open(holidays_page) as f:\n    content = f.read()\n\nholidays = defaultdict(list)\n\n\ndef get_us_bank_holidays(content=content):\n    \"\"\"Receive scraped html output, make a BS object, parse the bank\n       holiday table (css class = list-table), and return a dict of\n       keys -> months and values -> list of bank holidays\"\"\"\n    soup = Soup(content, 'html.parser')\n    for tr in soup.select('table.list-table tr'):\n        cells = tr.findAll('td')\n        if len(cells) > 0:\n            date = cells[1].text.strip()\n            month = re.search(r'-(\\d+)-',date).group(1)\n            holiday = cells[3].text.lstrip()[:-1]\n            holidays[month].append(holiday)\n    return holidays\n\n",
      "execution_count": null,
      "outputs": []
    },
    {
      "metadata": {
        "trusted": true
      },
      "cell_type": "code",
      "source": "from collections import defaultdict\nimport os\nfrom urllib.request import urlretrieve\n\nfrom bs4 import BeautifulSoup\n\n\n# prep data\nholidays_page = os.path.join(\"/tmp\", \"us_holidays.php\")\nurlretrieve(\"https://bit.ly/2LG098I\", holidays_page)\n\nwith open(holidays_page) as f:\n    content = f.read()\n\nholidays = defaultdict(list)\n\n\ndef get_us_bank_holidays(content=content):\n    \"\"\"Receive scraped html output, make a BS object, parse the bank\n       holiday table (css class = list-table), and return a dict of\n       keys -> months and values -> list of bank holidays\"\"\"\n    html = BeautifulSoup(content, \"html.parser\")\n    find_class = html.find(class_=\"list-table\")\n\n    # build a list with the holiday names\n    h_names = [i.text for i in find_class.findAll(\"a\")]\n\n    # build a list with the holiday months\n    # this is slightly more complicated\n    h_months = []\n    for i in find_class.select(\"td\"):\n        try:\n            something = i.find(\"time\")[\"datetime\"]\n            if something:\n                h_months.append(something.split(\"-\")[1])\n        except TypeError:\n            pass\n\n    # build tuples with the two lists\n    couples = zip(h_months, h_names)\n    # build the dictionary\n    for k, v in couples:\n        holidays[k].append(v)\n    return holidays\n",
      "execution_count": null,
      "outputs": []
    }
  ],
  "metadata": {
    "kernelspec": {
      "name": "python36",
      "display_name": "Python 3.6",
      "language": "python"
    },
    "language_info": {
      "mimetype": "text/x-python",
      "nbconvert_exporter": "python",
      "name": "python",
      "pygments_lexer": "ipython3",
      "version": "3.6.6",
      "file_extension": ".py",
      "codemirror_mode": {
        "version": 3,
        "name": "ipython"
      }
    }
  },
  "nbformat": 4,
  "nbformat_minor": 2
}