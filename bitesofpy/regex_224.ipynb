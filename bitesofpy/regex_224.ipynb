{
  "cells": [
    {
      "metadata": {
        "trusted": true
      },
      "cell_type": "code",
      "source": "import re\n\nfrom pprint import pprint as pp",
      "execution_count": 2,
      "outputs": []
    },
    {
      "metadata": {
        "trusted": true
      },
      "cell_type": "code",
      "source": "MYTEXT = 'PyBites was founded 19th of December 2016. That means that today'\n\nTEXT = \"\"\"\nPyBites was founded 19th of December 2016. That means that today,\n14th of October 2019 we are 1029 days old. Time flies when you code\nin Python. Anyways, good luck with this Bite. What is your favorite editor?\n\"\"\"  # contains 3 sentences\n\nTEXT_WITH_DOTS = \"\"\"\nWe are looking forward attending the next Pycon in the U.S.A.\nin 2020. Hope you do so too. There is no better Python networking\nevent than Pycon. Meet awesome people and get inspired. Btw this\ndot (.) should not end this sentence, the next one should. Have fun!\n\"\"\"\n\n\ndef test_get_sentences():\n    actual = get_sentences(TEXT)\n    expected = [\n        \"PyBites was founded 19th of December 2016.\",\n        \"That means that today, 14th of October 2019 we are 1029 days old.\",\n        \"Time flies when you code in Python.\",\n        \"Anyways, good luck with this Bite.\",\n        \"What is your favorite editor?\"\n    ]\n    assert actual == expected\n\n\ndef test_dot_mid_sentence():\n    actual = get_sentences(TEXT_WITH_DOTS)\n    expected = [\n        (\"We are looking forward attending the next Pycon in the \"\n         \"U.S.A. in 2020.\"),\n        \"Hope you do so too.\",\n        \"There is no better Python networking event than Pycon.\",\n        \"Meet awesome people and get inspired.\",\n        \"Btw this dot (.) should not end this sentence, the next one should.\",\n        \"Have fun!\"\n    ]\n    assert actual == expected",
      "execution_count": 25,
      "outputs": []
    },
    {
      "metadata": {
        "trusted": true
      },
      "cell_type": "code",
      "source": "import re\n\ndef get_sentences(text):\n    \"\"\"Return a list of sentences as extracted from the text passed in.\n       A sentence starts with [A-Z] and ends with [.?!]\"\"\"\n    b = text.replace('\\n', ' ')\n    a = re.split(r'(?<=[^A-Z].[.?]) +(?=[A-Z])', b)\n    # a = (sentence_expected_ends).replace()\n    pp(a)\n\n\n    \n#     sentence_list = sentence_expected_ends.split()\n#     return sentence_list\n    \n    \n#     text.splitlines('\\n')\n#     text_re = re.split(r'(?<=[^A-Z].[.?]) +(?=[A-Z])', text)\n    \n#     pp(text_re)\n    \n    \n    \n    \n#     a = text.splitlines()\n#     # print(a)\n#     sentence_list_re = re.split(r'(?<=[^A-Z].[.?]) +(?=[A-Z])', text)\n#     #return sentence_list_re\n#     print(sentence_list_re)\n    \n#     for i in sentence_list_re:\n#         sentence_list = i.append()\n    \n#     return sentence_list\n    \n    \n    # for l in re.split(r\"\\.|\\?|\\!\",line):\n    #     #Split line into list using space.\n    #     tmp_list = l.split(\" \")\n    #     return tmp_list\n            \n    \n    # sentence_expected_ends = re.compile('[.!?]')\n    # sentence_list = sentence_expected_ends.split(paragraph)\n    # return sentence_list\n    \n    \n    \n    # for l in re.split(r\"\\.|\\?|\\!\",line):\n    #         #Split line into list using space.\n    #         tmp_list = l.split(\" \")\n    \n#     m = re.split(r'(?<=[^A-Z].[.?]) +(?=[A-Z])', s)\n# >>> for i in m:\n# ...     print i",
      "execution_count": 3,
      "outputs": []
    },
    {
      "metadata": {
        "trusted": true
      },
      "cell_type": "code",
      "source": "if __name__ in '__main__':\n    get_sentences(MYTEXT)\n    # get_sentences(TEXT_WITH_DOTS)",
      "execution_count": 4,
      "outputs": [
        {
          "output_type": "error",
          "ename": "NameError",
          "evalue": "name 'MYTEXT' is not defined",
          "traceback": [
            "\u001b[0;31m---------------------------------------------------------------------------\u001b[0m",
            "\u001b[0;31mNameError\u001b[0m                                 Traceback (most recent call last)",
            "\u001b[0;32m<ipython-input-4-f7afaeb38933>\u001b[0m in \u001b[0;36m<module>\u001b[0;34m\u001b[0m\n\u001b[1;32m      1\u001b[0m \u001b[0;32mif\u001b[0m \u001b[0m__name__\u001b[0m \u001b[0;32min\u001b[0m \u001b[0;34m'__main__'\u001b[0m\u001b[0;34m:\u001b[0m\u001b[0;34m\u001b[0m\u001b[0m\n\u001b[0;32m----> 2\u001b[0;31m     \u001b[0mget_sentences\u001b[0m\u001b[0;34m(\u001b[0m\u001b[0mMYTEXT\u001b[0m\u001b[0;34m)\u001b[0m\u001b[0;34m\u001b[0m\u001b[0m\n\u001b[0m\u001b[1;32m      3\u001b[0m     \u001b[0;31m# get_sentences(TEXT_WITH_DOTS)\u001b[0m\u001b[0;34m\u001b[0m\u001b[0;34m\u001b[0m\u001b[0m\n",
            "\u001b[0;31mNameError\u001b[0m: name 'MYTEXT' is not defined"
          ]
        }
      ]
    },
    {
      "metadata": {
        "trusted": true
      },
      "cell_type": "code",
      "source": "lines[:] = [line.rstrip('\\n') for line in lines]",
      "execution_count": null,
      "outputs": []
    },
    {
      "metadata": {
        "trusted": true
      },
      "cell_type": "code",
      "source": "import re\n# s = \"\"\"Mr. Smith bought cheapsite.com for 1.5 million dollars, i.e. he paid a lot for it. Did he mind? Adam Jones Jr. thinks he didn't. In any case, this isn't true... Well, with a probability of .9 it isn't.\"\"\"\n\ns = '''\nPyBites was founded 19th of December 2016. That means that today,\n14th of October 2019 we are 1029 days old. Time flies when you code\nin Python. Anyways, good luck with this Bite. What is your favorite editor?\n'''\ns2 = '''\nWe are looking forward attending the next Pycon in the U.S.A.\nin 2020. Hope you do so too. There is no better Python networking\nevent than Pycon. Meet awesome people and get inspired. Btw this\ndot (.) should not end this sentence, the next one should. Have fun!\n\n'''\n\n\nm = re.split(r'(?<=[^A-Z].[.?]) +(?=[A-Z])', s2)\n# for i in m:\n#     print(i)\n# m\n# str(m).splitlines()\n# m.lstrip()\n# m.replace('\\n', '')\n# m[:] = [i.rstrip('\\n') for i in m] leaves starting \\nPyBites was...\nm[:] = [i.strip('\\n') for i in m] # gets rid of it - progress!\nm[:] = [j.replace('\\n', ' ') for j in m]\nm",
      "execution_count": 47,
      "outputs": [
        {
          "output_type": "execute_result",
          "execution_count": 47,
          "data": {
            "text/plain": "['We are looking forward attending the next Pycon in the U.S.A. in 2020.',\n 'Hope you do so too.',\n 'There is no better Python networking event than Pycon.',\n 'Meet awesome people and get inspired.',\n 'Btw this dot (.) should not end this sentence, the next one should.',\n 'Have fun!']"
          },
          "metadata": {}
        }
      ]
    },
    {
      "metadata": {
        "trusted": true
      },
      "cell_type": "markdown",
      "source": "```last_word_stripped = words[-1].rstrip('!.')\nresults.append(last_word_stripped)```"
    },
    {
      "metadata": {
        "trusted": true
      },
      "cell_type": "code",
      "source": "s = \"\"\"Mr. Smith bought cheapsite.com for 1.5 million dollars, i.e. he paid a lot for it. Did he mind?\"\"\"\ns",
      "execution_count": 12,
      "outputs": [
        {
          "output_type": "execute_result",
          "execution_count": 12,
          "data": {
            "text/plain": "'Mr. Smith bought cheapsite.com for 1.5 million dollars, i.e. he paid a lot for it. Did he mind?'"
          },
          "metadata": {}
        }
      ]
    },
    {
      "metadata": {
        "trusted": true
      },
      "cell_type": "code",
      "source": "t = s[-1].rstrip('!.')",
      "execution_count": 13,
      "outputs": []
    },
    {
      "metadata": {
        "trusted": true
      },
      "cell_type": "code",
      "source": "t\n",
      "execution_count": 15,
      "outputs": [
        {
          "output_type": "execute_result",
          "execution_count": 15,
          "data": {
            "text/plain": "'?'"
          },
          "metadata": {}
        }
      ]
    },
    {
      "metadata": {
        "trusted": true
      },
      "cell_type": "code",
      "source": "test_list = ['4', 'kg', 'butter', 'for', '40']",
      "execution_count": 35,
      "outputs": []
    },
    {
      "metadata": {
        "trusted": true
      },
      "cell_type": "code",
      "source": "print(\"The original list:\" + str(test_list))",
      "execution_count": 36,
      "outputs": [
        {
          "output_type": "stream",
          "text": "The original list:['4', 'kg', 'butter', 'for', '40']\n",
          "name": "stdout"
        }
      ]
    },
    {
      "metadata": {
        "trusted": true
      },
      "cell_type": "code",
      "source": "res = [sub.replace('4', '1') for sub in test_list]",
      "execution_count": 37,
      "outputs": []
    },
    {
      "metadata": {
        "trusted": true
      },
      "cell_type": "code",
      "source": "print(\"The new list is: \" + str(res))",
      "execution_count": 38,
      "outputs": [
        {
          "output_type": "stream",
          "text": "The new list is: ['1', 'kg', 'butter', 'for', '10']\n",
          "name": "stdout"
        }
      ]
    }
  ],
  "metadata": {
    "kernelspec": {
      "name": "python36",
      "display_name": "Python 3.6",
      "language": "python"
    },
    "language_info": {
      "mimetype": "text/x-python",
      "nbconvert_exporter": "python",
      "name": "python",
      "pygments_lexer": "ipython3",
      "version": "3.6.6",
      "file_extension": ".py",
      "codemirror_mode": {
        "version": 3,
        "name": "ipython"
      }
    }
  },
  "nbformat": 4,
  "nbformat_minor": 2
}