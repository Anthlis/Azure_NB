{
  "cells": [
    {
      "metadata": {
        "trusted": true
      },
      "cell_type": "code",
      "source": "import json\nfrom pprint import pprint as pp",
      "execution_count": 6,
      "outputs": []
    },
    {
      "metadata": {
        "trusted": true
      },
      "cell_type": "code",
      "source": "def read_json_file():\n    with open(\"posts.json\", \"r\") as read_file:\n        file_data = json.load(read_file)\n        return file_data",
      "execution_count": 7,
      "outputs": []
    },
    {
      "metadata": {
        "trusted": true
      },
      "cell_type": "code",
      "source": "post = read_json_file()",
      "execution_count": 8,
      "outputs": []
    },
    {
      "metadata": {
        "trusted": true
      },
      "cell_type": "code",
      "source": "pp(post[0])",
      "execution_count": 9,
      "outputs": [
        {
          "output_type": "stream",
          "text": "{'body': 'quia et suscipit\\n'\n         'suscipit recusandae consequuntur expedita et cum\\n'\n         'reprehenderit molestiae ut ut quas totam\\n'\n         'nostrum rerum est autem sunt rem eveniet architecto',\n 'id': 1,\n 'title': 'sunt aut facere repellat provident occaecati excepturi optio '\n          'reprehenderit',\n 'userId': 1}\n",
          "name": "stdout"
        }
      ]
    },
    {
      "metadata": {
        "trusted": true
      },
      "cell_type": "code",
      "source": "pp(post[0][\"title\"])",
      "execution_count": 10,
      "outputs": [
        {
          "output_type": "stream",
          "text": "'sunt aut facere repellat provident occaecati excepturi optio reprehenderit'\n",
          "name": "stdout"
        }
      ]
    },
    {
      "metadata": {
        "trusted": true
      },
      "cell_type": "code",
      "source": "# check # output may not be shown if cell not run\n\npp(read_json_file())",
      "execution_count": null,
      "outputs": []
    },
    {
      "metadata": {
        "trusted": true
      },
      "cell_type": "code",
      "source": "for title in post['body']['title']:\n    print(title)",
      "execution_count": 11,
      "outputs": [
        {
          "output_type": "error",
          "ename": "TypeError",
          "evalue": "list indices must be integers or slices, not str",
          "traceback": [
            "\u001b[0;31m---------------------------------------------------------------------------\u001b[0m",
            "\u001b[0;31mTypeError\u001b[0m                                 Traceback (most recent call last)",
            "\u001b[0;32m<ipython-input-11-7d137764d9df>\u001b[0m in \u001b[0;36m<module>\u001b[0;34m\u001b[0m\n\u001b[0;32m----> 1\u001b[0;31m \u001b[0;32mfor\u001b[0m \u001b[0mtitle\u001b[0m \u001b[0;32min\u001b[0m \u001b[0mpost\u001b[0m\u001b[0;34m[\u001b[0m\u001b[0;34m'body'\u001b[0m\u001b[0;34m]\u001b[0m\u001b[0;34m[\u001b[0m\u001b[0;34m'title'\u001b[0m\u001b[0;34m]\u001b[0m\u001b[0;34m:\u001b[0m\u001b[0;34m\u001b[0m\u001b[0m\n\u001b[0m\u001b[1;32m      2\u001b[0m     \u001b[0mprint\u001b[0m\u001b[0;34m(\u001b[0m\u001b[0mtitle\u001b[0m\u001b[0;34m)\u001b[0m\u001b[0;34m\u001b[0m\u001b[0m\n",
            "\u001b[0;31mTypeError\u001b[0m: list indices must be integers or slices, not str"
          ]
        }
      ]
    },
    {
      "metadata": {
        "trusted": true
      },
      "cell_type": "code",
      "source": "for count, i in enumerate(post[:7], 1):\n    print(count, i['title'])",
      "execution_count": 12,
      "outputs": [
        {
          "output_type": "stream",
          "text": "1 sunt aut facere repellat provident occaecati excepturi optio reprehenderit\n2 qui est esse\n3 ea molestias quasi exercitationem repellat qui ipsa sit aut\n4 eum et est occaecati\n5 nesciunt quas odio\n6 dolorem eum magni eos aperiam quia\n7 magnam facilis autem\n",
          "name": "stdout"
        }
      ]
    },
    {
      "metadata": {
        "trusted": true
      },
      "cell_type": "code",
      "source": "",
      "execution_count": null,
      "outputs": []
    }
  ],
  "metadata": {
    "kernelspec": {
      "name": "python36",
      "display_name": "Python 3.6",
      "language": "python"
    },
    "language_info": {
      "mimetype": "text/x-python",
      "nbconvert_exporter": "python",
      "name": "python",
      "pygments_lexer": "ipython3",
      "version": "3.6.6",
      "file_extension": ".py",
      "codemirror_mode": {
        "version": 3,
        "name": "ipython"
      }
    }
  },
  "nbformat": 4,
  "nbformat_minor": 2
}