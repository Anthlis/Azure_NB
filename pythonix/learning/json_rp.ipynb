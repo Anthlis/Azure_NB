{
  "cells": [
    {
      "metadata": {},
      "cell_type": "markdown",
      "source": "https://realpython.com/python-json/"
    },
    {
      "metadata": {
        "trusted": true
      },
      "cell_type": "code",
      "source": "import json\nimport requests",
      "execution_count": 16,
      "outputs": []
    },
    {
      "metadata": {
        "trusted": true
      },
      "cell_type": "code",
      "source": "data = {\n    \"president\": {\n        \"name\": \"Trumpet\",\n        \"species\": \"twat\"\n    }\n}",
      "execution_count": 3,
      "outputs": []
    },
    {
      "metadata": {
        "trusted": true
      },
      "cell_type": "code",
      "source": "data",
      "execution_count": 4,
      "outputs": [
        {
          "output_type": "execute_result",
          "execution_count": 4,
          "data": {
            "text/plain": "{'president': {'name': 'Trumpet', 'species': 'twat'}}"
          },
          "metadata": {}
        }
      ]
    },
    {
      "metadata": {
        "trusted": true
      },
      "cell_type": "code",
      "source": "with open(\"data_file.json\", \"w\") as write_file:\n    json.dump(data, write_file)",
      "execution_count": 5,
      "outputs": []
    },
    {
      "metadata": {
        "trusted": true
      },
      "cell_type": "code",
      "source": "json_string = json.dumps(data)",
      "execution_count": 6,
      "outputs": []
    },
    {
      "metadata": {
        "trusted": true
      },
      "cell_type": "code",
      "source": "json_string",
      "execution_count": 7,
      "outputs": [
        {
          "output_type": "execute_result",
          "execution_count": 7,
          "data": {
            "text/plain": "'{\"president\": {\"name\": \"Trumpet\", \"species\": \"twat\"}}'"
          },
          "metadata": {}
        }
      ]
    },
    {
      "metadata": {
        "trusted": true
      },
      "cell_type": "code",
      "source": "json.dumps(data)",
      "execution_count": 8,
      "outputs": [
        {
          "output_type": "execute_result",
          "execution_count": 8,
          "data": {
            "text/plain": "'{\"president\": {\"name\": \"Trumpet\", \"species\": \"twat\"}}'"
          },
          "metadata": {}
        }
      ]
    },
    {
      "metadata": {
        "trusted": true
      },
      "cell_type": "code",
      "source": "json.dumps(data, indent=4)",
      "execution_count": 9,
      "outputs": [
        {
          "output_type": "execute_result",
          "execution_count": 9,
          "data": {
            "text/plain": "'{\\n    \"president\": {\\n        \"name\": \"Trumpet\",\\n        \"species\": \"twat\"\\n    }\\n}'"
          },
          "metadata": {}
        }
      ]
    },
    {
      "metadata": {},
      "cell_type": "markdown",
      "source": "deserialize data"
    },
    {
      "metadata": {
        "trusted": true
      },
      "cell_type": "code",
      "source": "with open(\"data_file.json\", \"r\") as read_file:\n    data = json.load(read_file)",
      "execution_count": 10,
      "outputs": []
    },
    {
      "metadata": {
        "trusted": true
      },
      "cell_type": "code",
      "source": "json_string = \"\"\"\n{\n    \"researcher\": {\n        \"name\": \"Ford Prefect\",\n        \"species\": \"Betelgeusian\",\n        \"relatives\": [\n            {\n                \"name\": \"Zaphod Beeblebrox\",\n                \"species\": \"Betelgeusian\"\n            }\n        ]\n    }\n}\n\"\"\"",
      "execution_count": 11,
      "outputs": []
    },
    {
      "metadata": {
        "trusted": true
      },
      "cell_type": "code",
      "source": "data = json.loads(json_string)",
      "execution_count": 12,
      "outputs": []
    },
    {
      "metadata": {
        "trusted": true
      },
      "cell_type": "code",
      "source": "data",
      "execution_count": 13,
      "outputs": [
        {
          "output_type": "execute_result",
          "execution_count": 13,
          "data": {
            "text/plain": "{'researcher': {'name': 'Ford Prefect',\n  'species': 'Betelgeusian',\n  'relatives': [{'name': 'Zaphod Beeblebrox', 'species': 'Betelgeusian'}]}}"
          },
          "metadata": {}
        }
      ]
    },
    {
      "metadata": {
        "trusted": true
      },
      "cell_type": "code",
      "source": "response = requests.get(\"https://jsonplaceholder.typicode.com/todos\")\ntodos = json.loads(response.text)",
      "execution_count": 17,
      "outputs": []
    },
    {
      "metadata": {
        "trusted": true
      },
      "cell_type": "code",
      "source": "todos == response.json()",
      "execution_count": 18,
      "outputs": [
        {
          "output_type": "execute_result",
          "execution_count": 18,
          "data": {
            "text/plain": "True"
          },
          "metadata": {}
        }
      ]
    },
    {
      "metadata": {
        "trusted": true
      },
      "cell_type": "code",
      "source": "type(todos)",
      "execution_count": 19,
      "outputs": [
        {
          "output_type": "execute_result",
          "execution_count": 19,
          "data": {
            "text/plain": "list"
          },
          "metadata": {}
        }
      ]
    },
    {
      "metadata": {
        "trusted": true
      },
      "cell_type": "code",
      "source": "todos[:10]",
      "execution_count": 20,
      "outputs": [
        {
          "output_type": "execute_result",
          "execution_count": 20,
          "data": {
            "text/plain": "[{'userId': 1, 'id': 1, 'title': 'delectus aut autem', 'completed': False},\n {'userId': 1,\n  'id': 2,\n  'title': 'quis ut nam facilis et officia qui',\n  'completed': False},\n {'userId': 1, 'id': 3, 'title': 'fugiat veniam minus', 'completed': False},\n {'userId': 1, 'id': 4, 'title': 'et porro tempora', 'completed': True},\n {'userId': 1,\n  'id': 5,\n  'title': 'laboriosam mollitia et enim quasi adipisci quia provident illum',\n  'completed': False},\n {'userId': 1,\n  'id': 6,\n  'title': 'qui ullam ratione quibusdam voluptatem quia omnis',\n  'completed': False},\n {'userId': 1,\n  'id': 7,\n  'title': 'illo expedita consequatur quia in',\n  'completed': False},\n {'userId': 1,\n  'id': 8,\n  'title': 'quo adipisci enim quam ut ab',\n  'completed': True},\n {'userId': 1,\n  'id': 9,\n  'title': 'molestiae perspiciatis ipsa',\n  'completed': False},\n {'userId': 1,\n  'id': 10,\n  'title': 'illo est ratione doloremque quia maiores aut',\n  'completed': True}]"
          },
          "metadata": {}
        }
      ]
    },
    {
      "metadata": {
        "trusted": true
      },
      "cell_type": "code",
      "source": "# Map of userId to number of complete TODOs for that user\ntodos_by_user = {}\n\n# Increment complete TODOs count for each user.\nfor todo in todos:\n    if todo[\"completed\"]:\n        try:\n            # Increment the existing user's count.\n            todos_by_user[todo[\"userId\"]] += 1\n        except KeyError:\n            # This user has not been seen. Set their count to 1.\n            todos_by_user[todo[\"userId\"]] = 1\n\n# Create a sorted list of (userId, num_complete) pairs.\ntop_users = sorted(todos_by_user.items(), \n                   key=lambda x: x[1], reverse=True)\n\n# Get the maximum number of complete TODOs.\nmax_complete = top_users[0][1]\n\n# Create a list of all users who have completed\n# the maximum number of TODOs.\nusers = []\nfor user, num_complete in top_users:\n    if num_complete < max_complete:\n        break\n    users.append(str(user))\n\nmax_users = \" and \".join(users)",
      "execution_count": 21,
      "outputs": []
    },
    {
      "metadata": {
        "trusted": true
      },
      "cell_type": "code",
      "source": "s = \"s\" if len(users) > 1 else \"\"",
      "execution_count": 22,
      "outputs": []
    },
    {
      "metadata": {
        "trusted": true
      },
      "cell_type": "code",
      "source": "print(f\"user{s} {max_users} completed {max_complete} TODOs\")",
      "execution_count": 23,
      "outputs": [
        {
          "output_type": "stream",
          "text": "users 5 and 10 completed 12 TODOs\n",
          "name": "stdout"
        }
      ]
    },
    {
      "metadata": {
        "trusted": true
      },
      "cell_type": "code",
      "source": "",
      "execution_count": null,
      "outputs": []
    }
  ],
  "metadata": {
    "kernelspec": {
      "name": "python36",
      "display_name": "Python 3.6",
      "language": "python"
    },
    "language_info": {
      "mimetype": "text/x-python",
      "nbconvert_exporter": "python",
      "name": "python",
      "pygments_lexer": "ipython3",
      "version": "3.6.6",
      "file_extension": ".py",
      "codemirror_mode": {
        "version": 3,
        "name": "ipython"
      }
    }
  },
  "nbformat": 4,
  "nbformat_minor": 2
}