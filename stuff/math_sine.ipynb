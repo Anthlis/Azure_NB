{
  "cells": [
    {
      "metadata": {
        "trusted": true
      },
      "cell_type": "code",
      "source": "import math\n\nprint (\"TABLE OF TRIGONOMETRIC SINE\")\nprint (\"===========================\")\nprint (\"\")\nprint (\"  ANGLE       SINE\")\n\nfor angle in range (0, 95, 5):\n    r = math.radians(angle)\n    s = math.sin(r)\n    print(\"   %d       %f\" %(angle, s))\n\nprint (\"End of program\")",
      "execution_count": 1,
      "outputs": [
        {
          "output_type": "stream",
          "text": "TABLE OF TRIGONOMETRIC SINE\n===========================\n\n  ANGLE       SINE\n   0       0.000000\n   5       0.087156\n   10       0.173648\n   15       0.258819\n   20       0.342020\n   25       0.422618\n   30       0.500000\n   35       0.573576\n   40       0.642788\n   45       0.707107\n   50       0.766044\n   55       0.819152\n   60       0.866025\n   65       0.906308\n   70       0.939693\n   75       0.965926\n   80       0.984808\n   85       0.996195\n   90       1.000000\nEnd of program\n",
          "name": "stdout"
        }
      ]
    },
    {
      "metadata": {
        "trusted": true
      },
      "cell_type": "code",
      "source": "",
      "execution_count": null,
      "outputs": []
    }
  ],
  "metadata": {
    "kernelspec": {
      "name": "python36",
      "display_name": "Python 3.6",
      "language": "python"
    },
    "language_info": {
      "mimetype": "text/x-python",
      "nbconvert_exporter": "python",
      "name": "python",
      "pygments_lexer": "ipython3",
      "version": "3.6.6",
      "file_extension": ".py",
      "codemirror_mode": {
        "version": 3,
        "name": "ipython"
      }
    }
  },
  "nbformat": 4,
  "nbformat_minor": 2
}