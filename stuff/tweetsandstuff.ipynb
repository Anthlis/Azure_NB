{
  "cells": [
    {
      "metadata": {
        "trusted": true
      },
      "cell_type": "code",
      "source": "from operator import itemgetter",
      "execution_count": 1,
      "outputs": []
    },
    {
      "metadata": {
        "trusted": true
      },
      "cell_type": "code",
      "source": "pop_2018 = {\n    'aruba': 105856,\n    'afghanistan': 37172386,\n    'angola': 30809762,\n    'albania': 2866376\n}",
      "execution_count": 2,
      "outputs": []
    },
    {
      "metadata": {
        "trusted": true
      },
      "cell_type": "code",
      "source": "pop_2018.get('angola')",
      "execution_count": 3,
      "outputs": [
        {
          "output_type": "execute_result",
          "execution_count": 3,
          "data": {
            "text/plain": "30809762"
          },
          "metadata": {}
        }
      ]
    },
    {
      "metadata": {
        "trusted": true
      },
      "cell_type": "code",
      "source": "results = itemgetter('aruba', 'afghanistan', 'angola', 'albania')(pop_2018)\nprint(results)",
      "execution_count": 5,
      "outputs": [
        {
          "output_type": "stream",
          "text": "(105856, 37172386, 30809762, 2866376)\n",
          "name": "stdout"
        }
      ]
    },
    {
      "metadata": {
        "trusted": true
      },
      "cell_type": "code",
      "source": "print('Sum of results: ', sum(results))",
      "execution_count": 6,
      "outputs": [
        {
          "output_type": "stream",
          "text": "Sum of results:  70954380\n",
          "name": "stdout"
        }
      ]
    },
    {
      "metadata": {
        "trusted": true
      },
      "cell_type": "code",
      "source": "print('Sum of itemgetter: ', sum(itemgetter('aruba', 'afghanistan', 'angola', 'albania')(pop_2018)))",
      "execution_count": 8,
      "outputs": [
        {
          "output_type": "stream",
          "text": "Sum of itemgetter:  70954380\n",
          "name": "stdout"
        }
      ]
    },
    {
      "metadata": {
        "trusted": true
      },
      "cell_type": "code",
      "source": "",
      "execution_count": null,
      "outputs": []
    }
  ],
  "metadata": {
    "kernelspec": {
      "name": "python36",
      "display_name": "Python 3.6",
      "language": "python"
    },
    "language_info": {
      "mimetype": "text/x-python",
      "nbconvert_exporter": "python",
      "name": "python",
      "pygments_lexer": "ipython3",
      "version": "3.6.6",
      "file_extension": ".py",
      "codemirror_mode": {
        "version": 3,
        "name": "ipython"
      }
    }
  },
  "nbformat": 4,
  "nbformat_minor": 2
}