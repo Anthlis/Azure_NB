{
  "cells": [
    {
      "metadata": {
        "trusted": true
      },
      "cell_type": "code",
      "source": "print('test')",
      "execution_count": 2,
      "outputs": [
        {
          "output_type": "stream",
          "text": "test\n",
          "name": "stdout"
        }
      ]
    },
    {
      "metadata": {
        "trusted": true
      },
      "cell_type": "code",
      "source": "url = \"http://worldtimeapi.org/api/timezone/Pacific/Auckland\"",
      "execution_count": 3,
      "outputs": []
    },
    {
      "metadata": {
        "trusted": true
      },
      "cell_type": "code",
      "source": "import requests\n\nresponse = requests.get(url)\n\nif response.status_code == 200:\n    print(\"JSON response follows:\\n \" + response.text)\nelse:\n    print(\"Something is wrong :(\")",
      "execution_count": 4,
      "outputs": [
        {
          "output_type": "stream",
          "text": "JSON response follows:\n {\"week_number\":5,\"utc_offset\":\"+13:00\",\"utc_datetime\":\"2020-01-28T04:00:26.533519+00:00\",\"unixtime\":1580184026,\"timezone\":\"Pacific/Auckland\",\"raw_offset\":43200,\"dst_until\":\"2020-04-04T14:00:00+00:00\",\"dst_offset\":3600,\"dst_from\":\"2019-09-28T14:00:00+00:00\",\"dst\":true,\"day_of_year\":28,\"day_of_week\":2,\"datetime\":\"2020-01-28T17:00:26.533519+13:00\",\"client_ip\":\"52.171.139.124\",\"abbreviation\":\"NZDT\"}\n",
          "name": "stdout"
        }
      ]
    },
    {
      "metadata": {
        "trusted": true
      },
      "cell_type": "code",
      "source": "print(response)",
      "execution_count": 5,
      "outputs": [
        {
          "output_type": "stream",
          "text": "<Response [200]>\n",
          "name": "stdout"
        }
      ]
    },
    {
      "metadata": {
        "trusted": true
      },
      "cell_type": "code",
      "source": "# parse JSON\n# parsed = ujson.loads(response.text) # you can also use \nparsed = response.json()\ndatetime_str = str(parsed[\"datetime\"])\nyear = int(datetime_str[0:4])\nmonth = int(datetime_str[5:7])\nday = int(datetime_str[8:10])\nhour = int(datetime_str[11:13])\nminute = int(datetime_str[14:16])\nsecond = int(datetime_str[17:19])\nsubsecond = int(round(int(datetime_str[20:26]) / 10000))",
      "execution_count": 6,
      "outputs": []
    },
    {
      "metadata": {
        "trusted": true
      },
      "cell_type": "code",
      "source": "print(parsed)",
      "execution_count": 7,
      "outputs": [
        {
          "output_type": "stream",
          "text": "{'week_number': 5, 'utc_offset': '+13:00', 'utc_datetime': '2020-01-28T04:00:26.533519+00:00', 'unixtime': 1580184026, 'timezone': 'Pacific/Auckland', 'raw_offset': 43200, 'dst_until': '2020-04-04T14:00:00+00:00', 'dst_offset': 3600, 'dst_from': '2019-09-28T14:00:00+00:00', 'dst': True, 'day_of_year': 28, 'day_of_week': 2, 'datetime': '2020-01-28T17:00:26.533519+13:00', 'client_ip': '52.171.139.124', 'abbreviation': 'NZDT'}\n",
          "name": "stdout"
        }
      ]
    },
    {
      "metadata": {
        "trusted": true
      },
      "cell_type": "code",
      "source": "datetime_str",
      "execution_count": 8,
      "outputs": [
        {
          "output_type": "execute_result",
          "execution_count": 8,
          "data": {
            "text/plain": "'2020-01-28T17:00:26.533519+13:00'"
          },
          "metadata": {}
        }
      ]
    },
    {
      "metadata": {
        "trusted": true
      },
      "cell_type": "code",
      "source": "year",
      "execution_count": 9,
      "outputs": [
        {
          "output_type": "execute_result",
          "execution_count": 9,
          "data": {
            "text/plain": "2020"
          },
          "metadata": {}
        }
      ]
    },
    {
      "metadata": {
        "trusted": true
      },
      "cell_type": "code",
      "source": "print(f\"The time right now is: {hour}:{minute}:{second} on the {day}/{month}/{year}.\")",
      "execution_count": 10,
      "outputs": [
        {
          "output_type": "stream",
          "text": "The time right now is: 17:0:26 on the 28/1/2020.\n",
          "name": "stdout"
        }
      ]
    },
    {
      "metadata": {
        "trusted": true
      },
      "cell_type": "code",
      "source": "",
      "execution_count": null,
      "outputs": []
    }
  ],
  "metadata": {
    "kernelspec": {
      "name": "python36",
      "display_name": "Python 3.6",
      "language": "python"
    },
    "language_info": {
      "mimetype": "text/x-python",
      "nbconvert_exporter": "python",
      "name": "python",
      "pygments_lexer": "ipython3",
      "version": "3.6.6",
      "file_extension": ".py",
      "codemirror_mode": {
        "version": 3,
        "name": "ipython"
      }
    }
  },
  "nbformat": 4,
  "nbformat_minor": 2
}