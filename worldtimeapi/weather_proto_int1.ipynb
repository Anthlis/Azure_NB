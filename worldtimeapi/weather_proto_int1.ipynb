{
  "cells": [
    {
      "metadata": {
        "trusted": true
      },
      "cell_type": "code",
      "source": "print('test')",
      "execution_count": 1,
      "outputs": [
        {
          "output_type": "stream",
          "text": "test\n",
          "name": "stdout"
        }
      ]
    },
    {
      "metadata": {
        "trusted": true
      },
      "cell_type": "code",
      "source": "url = \"https://www.metaweather.com/api/location/search/?query=Christchurch\"",
      "execution_count": 2,
      "outputs": []
    },
    {
      "metadata": {
        "trusted": true
      },
      "cell_type": "code",
      "source": "import requests\n\nresponse = requests.get(url)\n\nif response.status_code == 200:\n    print(\"JSON response follows:\\n \" + response.text)\nelse:\n    print(\"Something is wrong :(\")",
      "execution_count": 3,
      "outputs": [
        {
          "output_type": "stream",
          "text": "JSON response follows:\n [{\"title\":\"Christchurch\",\"location_type\":\"City\",\"woeid\":2348327,\"latt_long\":\"-43.527519,172.635422\"}]\n",
          "name": "stdout"
        }
      ]
    },
    {
      "metadata": {
        "trusted": true
      },
      "cell_type": "code",
      "source": "print(response)",
      "execution_count": 4,
      "outputs": [
        {
          "output_type": "stream",
          "text": "<Response [200]>\n",
          "name": "stdout"
        }
      ]
    },
    {
      "metadata": {
        "trusted": true
      },
      "cell_type": "code",
      "source": "# parse JSON\n# parsed = ujson.loads(response.text) # you can also use \nparsed = response.json()\n# datetime_str = str(parsed[\"datetime\"])",
      "execution_count": 5,
      "outputs": []
    },
    {
      "metadata": {
        "trusted": true
      },
      "cell_type": "code",
      "source": "print(parsed)",
      "execution_count": 6,
      "outputs": [
        {
          "output_type": "stream",
          "text": "[{'title': 'Christchurch', 'location_type': 'City', 'woeid': 2348327, 'latt_long': '-43.527519,172.635422'}]\n",
          "name": "stdout"
        }
      ]
    },
    {
      "metadata": {
        "trusted": true
      },
      "cell_type": "markdown",
      "source": "/api/location/(woeid)/"
    },
    {
      "metadata": {
        "trusted": true
      },
      "cell_type": "code",
      "source": "woeid_url = \"https://www.metaweather.com/api/location/2348327\"\nresponse = requests.get(woeid_url)\n\nif response.status_code == 200:\n    print(\"JSON response follows:\\n \" + response.text)\nelse:\n    print(\"Something is wrong :(\")",
      "execution_count": 7,
      "outputs": [
        {
          "output_type": "stream",
          "text": "JSON response follows:\n {\"consolidated_weather\":[{\"id\":5616073447571456,\"weather_state_name\":\"Light Cloud\",\"weather_state_abbr\":\"lc\",\"wind_direction_compass\":\"NW\",\"created\":\"2020-05-17T22:56:37.054091Z\",\"applicable_date\":\"2020-05-18\",\"min_temp\":6.225,\"max_temp\":13.370000000000001,\"the_temp\":11.65,\"wind_speed\":3.7878350433468544,\"wind_direction\":315.49999999999994,\"air_pressure\":1031.0,\"humidity\":71,\"visibility\":9.999726596675416,\"predictability\":70},{\"id\":6253444631363584,\"weather_state_name\":\"Heavy Cloud\",\"weather_state_abbr\":\"hc\",\"wind_direction_compass\":\"NE\",\"created\":\"2020-05-17T22:56:39.917716Z\",\"applicable_date\":\"2020-05-19\",\"min_temp\":6.795,\"max_temp\":12.765,\"the_temp\":11.43,\"wind_speed\":3.543159349399507,\"wind_direction\":55.5,\"air_pressure\":1027.0,\"humidity\":69,\"visibility\":9.999726596675416,\"predictability\":71},{\"id\":5242180572545024,\"weather_state_name\":\"Light Cloud\",\"weather_state_abbr\":\"lc\",\"wind_direction_compass\":\"NNW\",\"created\":\"2020-05-17T22:56:42.731395Z\",\"applicable_date\":\"2020-05-20\",\"min_temp\":4.635,\"max_temp\":14.235,\"the_temp\":13.57,\"wind_speed\":2.7932180068400543,\"wind_direction\":345.0,\"air_pressure\":1022.0,\"humidity\":60,\"visibility\":9.999726596675416,\"predictability\":70},{\"id\":6258586646740992,\"weather_state_name\":\"Heavy Cloud\",\"weather_state_abbr\":\"hc\",\"wind_direction_compass\":\"NW\",\"created\":\"2020-05-17T22:56:46.573306Z\",\"applicable_date\":\"2020-05-21\",\"min_temp\":6.805000000000001,\"max_temp\":17.475,\"the_temp\":17.16,\"wind_speed\":3.6903612900660145,\"wind_direction\":324.5,\"air_pressure\":1022.0,\"humidity\":56,\"visibility\":9.999726596675416,\"predictability\":71},{\"id\":5510364504522752,\"weather_state_name\":\"Heavy Cloud\",\"weather_state_abbr\":\"hc\",\"wind_direction_compass\":\"NW\",\"created\":\"2020-05-17T22:56:49.319738Z\",\"applicable_date\":\"2020-05-22\",\"min_temp\":9.485,\"max_temp\":18.045,\"the_temp\":15.2,\"wind_speed\":3.455389127495427,\"wind_direction\":313.0,\"air_pressure\":1023.0,\"humidity\":62,\"visibility\":9.999726596675416,\"predictability\":71},{\"id\":6636264411365376,\"weather_state_name\":\"Heavy Cloud\",\"weather_state_abbr\":\"hc\",\"wind_direction_compass\":\"N\",\"created\":\"2020-05-17T22:56:51.658907Z\",\"applicable_date\":\"2020-05-23\",\"min_temp\":8.57,\"max_temp\":15.559999999999999,\"the_temp\":13.77,\"wind_speed\":2.1401513163127337,\"wind_direction\":353.5,\"air_pressure\":1023.0,\"humidity\":63,\"visibility\":9.999726596675416,\"predictability\":71}],\"time\":\"2020-05-18T13:43:20.865123+12:00\",\"sun_rise\":\"2020-05-18T07:40:39.911043+12:00\",\"sun_set\":\"2020-05-18T17:11:45.262858+12:00\",\"timezone_name\":\"LMT\",\"parent\":{\"title\":\"New Zealand\",\"location_type\":\"Country\",\"woeid\":23424916,\"latt_long\":\"-43.586781,170.370987\"},\"sources\":[{\"title\":\"BBC\",\"slug\":\"bbc\",\"url\":\"http://www.bbc.co.uk/weather/\",\"crawl_rate\":360},{\"title\":\"Forecast.io\",\"slug\":\"forecast-io\",\"url\":\"http://forecast.io/\",\"crawl_rate\":480},{\"title\":\"HAMweather\",\"slug\":\"hamweather\",\"url\":\"http://www.hamweather.com/\",\"crawl_rate\":360},{\"title\":\"OpenWeatherMap\",\"slug\":\"openweathermap\",\"url\":\"http://openweathermap.org/\",\"crawl_rate\":360},{\"title\":\"Weather Underground\",\"slug\":\"wunderground\",\"url\":\"https://www.wunderground.com/?apiref=fc30dc3cd224e19b\",\"crawl_rate\":720},{\"title\":\"World Weather Online\",\"slug\":\"world-weather-online\",\"url\":\"http://www.worldweatheronline.com/\",\"crawl_rate\":360}],\"title\":\"Christchurch\",\"location_type\":\"City\",\"woeid\":2348327,\"latt_long\":\"-43.527519,172.635422\",\"timezone\":\"Pacific/Auckland\"}\n",
          "name": "stdout"
        }
      ]
    },
    {
      "metadata": {
        "trusted": true
      },
      "cell_type": "code",
      "source": "print(\"Querying data...\")\ndate = []\nw_state = []\nmin_temp = []\nmax_temp = []\nhumid = []\npredic = []\nloc = \"\"\ntime = \"\"",
      "execution_count": 8,
      "outputs": [
        {
          "output_type": "stream",
          "text": "Querying data...\n",
          "name": "stdout"
        }
      ]
    },
    {
      "metadata": {
        "trusted": true
      },
      "cell_type": "code",
      "source": "if response.status_code == 200: # query successful\n    print(\"  successful.\")\n    print(\"\")\n        \n    # parse JSON\n    parsed = response.json()\n    \n    # extract data\n    loc = (parsed[\"title\"])[:18]\n    time = parsed[\"time\"]\n    print(\"Weather forecast for [\" + loc + \"]\")\n    print(\"Data time: [\" + time + \"]\")\n    print(\"\")\n    for i in range(6):\n        w_data = parsed[\"consolidated_weather\"][i]\n        date.append(w_data[\"applicable_date\"][5:10])\n        w_state.append(w_data[\"weather_state_name\"])\n        min_temp.append(round(float(w_data[\"min_temp\"])))\n        max_temp.append(round(float(w_data[\"max_temp\"])))\n        humid.append(int(w_data[\"humidity\"]))\n        predic.append(int(w_data[\"predictability\"]))\n        output_str = \"Date: {0} [{1}%], Temp: {2}/{3} *C, Humid: {4}, State: {5}\"\n        print(output_str.format(date[i], predic[i], max_temp[i], min_temp[i], humid[i], w_state[i]))\n\nelse: # query failed, roboot\n    print(\"  failed. Rebooting...\")",
      "execution_count": 9,
      "outputs": [
        {
          "output_type": "stream",
          "text": "  successful.\n\nWeather forecast for [Christchurch]\nData time: [2020-05-18T13:43:20.865123+12:00]\n\nDate: 05-18 [70%], Temp: 13/6 *C, Humid: 71, State: Light Cloud\nDate: 05-19 [71%], Temp: 13/7 *C, Humid: 69, State: Heavy Cloud\nDate: 05-20 [70%], Temp: 14/5 *C, Humid: 60, State: Light Cloud\nDate: 05-21 [71%], Temp: 17/7 *C, Humid: 56, State: Heavy Cloud\nDate: 05-22 [71%], Temp: 18/9 *C, Humid: 62, State: Heavy Cloud\nDate: 05-23 [71%], Temp: 16/9 *C, Humid: 63, State: Heavy Cloud\n",
          "name": "stdout"
        }
      ]
    },
    {
      "metadata": {
        "trusted": true
      },
      "cell_type": "code",
      "source": "print(w_data[\"weather_state_name\"])",
      "execution_count": 10,
      "outputs": [
        {
          "output_type": "stream",
          "text": "Heavy Cloud\n",
          "name": "stdout"
        }
      ]
    },
    {
      "metadata": {
        "trusted": true
      },
      "cell_type": "code",
      "source": "from IPython.core.display import HTML\n# HTML(''' <' img src='logo.svg' / > ''')\nHTML(''' <' img src='https://www.metaweather.com/static/img/weather/lc.svg' / > ''')",
      "execution_count": 11,
      "outputs": [
        {
          "output_type": "execute_result",
          "execution_count": 11,
          "data": {
            "text/html": " <' img src='https://www.metaweather.com/static/img/weather/lc.svg' / > ",
            "text/plain": "<IPython.core.display.HTML object>"
          },
          "metadata": {}
        }
      ]
    },
    {
      "metadata": {
        "trusted": true
      },
      "cell_type": "code",
      "source": "from IPython.core.display import HTML\n# HTML(''' <' img src='logo.svg' / > ''')\nHTML('''img src='https://www.metaweather.com/static/img/weather/lc.svg'''')",
      "execution_count": 12,
      "outputs": [
        {
          "output_type": "error",
          "ename": "SyntaxError",
          "evalue": "EOL while scanning string literal (<ipython-input-12-6a62d8b4d139>, line 3)",
          "traceback": [
            "\u001b[0;36m  File \u001b[0;32m\"<ipython-input-12-6a62d8b4d139>\"\u001b[0;36m, line \u001b[0;32m3\u001b[0m\n\u001b[0;31m    HTML('''img src='https://www.metaweather.com/static/img/weather/lc.svg'''')\u001b[0m\n\u001b[0m                                                                               ^\u001b[0m\n\u001b[0;31mSyntaxError\u001b[0m\u001b[0;31m:\u001b[0m EOL while scanning string literal\n"
          ]
        }
      ]
    },
    {
      "metadata": {},
      "cell_type": "markdown",
      "source": "HTML(''' <' img src='https://www.metaweather.com/static/img/weather/lc.svg' / > ''')"
    },
    {
      "metadata": {
        "trusted": true
      },
      "cell_type": "code",
      "source": "![](https://upload.wikimedia.org/wikipedia/commons/8/80/Atom_Diagram.svg) # change this cell to markdown to view!",
      "execution_count": 13,
      "outputs": [
        {
          "output_type": "stream",
          "text": "/bin/sh: 1: Syntax error: word unexpected (expecting \")\")\r\n",
          "name": "stdout"
        }
      ]
    },
    {
      "metadata": {},
      "cell_type": "markdown",
      "source": "![](https://www.metaweather.com/static/img/weather/lc.svg)"
    },
    {
      "metadata": {
        "trusted": true
      },
      "cell_type": "code",
      "source": "from IPython.display import SVG, display\ndef show_svg():\n    display(SVG(url='https://www.metaweather.com/static/img/weather/h.svg'))",
      "execution_count": 14,
      "outputs": []
    },
    {
      "metadata": {
        "trusted": true
      },
      "cell_type": "code",
      "source": "show_svg()",
      "execution_count": 15,
      "outputs": [
        {
          "output_type": "display_data",
          "data": {
            "text/plain": "<IPython.core.display.SVG object>",
            "image/svg+xml": "<svg id=\"Layer_1\" style=\"enable-background:new 0 0 18 18;\" version=\"1.1\" viewBox=\"0 0 18 18\" x=\"0px\" xml:space=\"preserve\" xmlns=\"http://www.w3.org/2000/svg\" xmlns:xlink=\"http://www.w3.org/1999/xlink\" y=\"0px\">\n<g>\n\t<defs>\n\t\t<rect height=\"18\" id=\"SVGID_1_\" width=\"18\"/>\n\t</defs>\n\t<clipPath id=\"SVGID_2_\">\n\t\t<use style=\"overflow:visible;\" xlink:href=\"#SVGID_1_\"/>\n\t</clipPath>\n\t<path d=\"M3,14c0,0.553-0.447,1-1,1s-1-0.447-1-1s0.447-1,1-1S3,13.447,3,14\" style=\"clip-path:url(#SVGID_2_);fill:#02AFBE;\"/>\n\t<path d=\"M15,14c0,0.553,0.447,1,1,1s1-0.447,1-1s-0.447-1-1-1S15,13.447,15,14\" style=\"clip-path:url(#SVGID_2_);fill:#02AFBE;\"/>\n\t<path d=\"M10,17c0,0.553-0.447,1-1,1c-0.553,0-1-0.447-1-1s0.447-1,1-1   C9.553,16,10,16.447,10,17\" style=\"clip-path:url(#SVGID_2_);fill:#02AFBE;\"/>\n\t<path d=\"M14.5,3   c-0.213,0-0.42,0.026-0.622,0.062C13.454,1.308,11.884,0,10,0C7.791,0,6,1.791,6,4c0,0.276-0.224,0.5-0.5,0.5S5,4.276,5,4   c0-0.622,0.128-1.212,0.337-1.762C4.918,2.089,4.47,2,4,2C1.791,2,0,3.791,0,6s1.791,4,4,4h10.5c1.933,0,3.5-1.566,3.5-3.5   S16.433,3,14.5,3\" style=\"clip-path:url(#SVGID_2_);fill-rule:evenodd;clip-rule:evenodd;fill:#BEBDBD;\"/>\n\t<path d=\"M6.5,11v4.215c-0.433-0.756-1.242-1.465-2.75-1.465   c-0.138,0-0.25,0.112-0.25,0.25s0.112,0.25,0.25,0.25c2.709,0,2.75,2.638,2.75,2.75v0.001c0,0.138,0.112,0.249,0.25,0.249   c0.136,0,0.247-0.108,0.25-0.243v-0.002v-0.001v-0.002V17v-6H6.5z\" style=\"clip-path:url(#SVGID_2_);fill:#BEBDBD;\"/>\n\t<path d=\"M14.25,13.75c-1.508,0-2.317,0.709-2.75,1.465V11H11v6   c0,0.138,0.112,0.25,0.25,0.25S11.5,17.138,11.5,17c0-0.112,0.031-2.75,2.75-2.75c0.138,0,0.25-0.112,0.25-0.25   S14.388,13.75,14.25,13.75\" style=\"clip-path:url(#SVGID_2_);fill:#BEBDBD;\"/>\n\t<path d=\"M8.75,11v4c0,0.138,0.112,0.25,0.25,0.25c0.138,0,0.25-0.112,0.25-0.25v-4   H8.75z\" style=\"clip-path:url(#SVGID_2_);fill:#BEBDBD;\"/>\n</g>\n</svg>"
          },
          "metadata": {}
        }
      ]
    },
    {
      "metadata": {
        "trusted": true
      },
      "cell_type": "code",
      "source": "# png/64/X.png\n# <img src=\"image.JPG\" alt=\"Drawing\" style=\"width: 200px;\"/>\nfrom IPython.display import SVG, display, HTML\ndef show_svg():\n    display(HTML(''' <' img src='https://www.metaweather.com/static/img/weather/h.svg' alt='Wx' style=\"width: 200px;\" / > '''))\nshow_svg()\n\n\n# from IPython.core.display import HTML\n# HTML(''' <' img src='logo.svg' / > ''')",
      "execution_count": 29,
      "outputs": [
        {
          "output_type": "display_data",
          "data": {
            "text/html": " <' img src='https://www.metaweather.com/static/img/weather/h.svg' alt='Wx' style=\"width: 200px;\" / > ",
            "text/plain": "<IPython.core.display.HTML object>"
          },
          "metadata": {}
        }
      ]
    },
    {
      "metadata": {
        "trusted": true
      },
      "cell_type": "code",
      "source": "from IPython.display import SVG, display\ndef show_svg():\n    display(SVG(url='https://upload.wikimedia.org/wikipedia/commons/3/3e/Flag_of_New_Zealand.svg'))",
      "execution_count": 24,
      "outputs": []
    },
    {
      "metadata": {
        "trusted": true
      },
      "cell_type": "code",
      "source": "show_svg()",
      "execution_count": 25,
      "outputs": [
        {
          "output_type": "display_data",
          "data": {
            "text/plain": "<IPython.core.display.SVG object>",
            "image/svg+xml": "<svg height=\"600\" version=\"1.1\" width=\"1200\" xmlns=\"http://www.w3.org/2000/svg\" xmlns:xlink=\"http://www.w3.org/1999/xlink\">\n<defs>\n\t<clipPath id=\"Canton\">\n\t\t<path d=\"M 0,0 L 600,0 L 600,300 L 0,300 z\"/>\n\t</clipPath>\n\t<clipPath id=\"Diagonals\">\n\t\t<path d=\"M 0,0 L 300,150 L 0,150 z M 300,0 L 600,0 L 300,150 z M 300,150 L 600,150 L 600,300 z M 300,150 L 300,300 L 0,300 z\"/>\n\t</clipPath>\n\t<g id=\"Pentagram\">\n\t\t<g id=\"Arm\" transform=\"translate(0,-0.324925)\">\n\t\t\t<path d=\"M 0,0 L 0,0.5 L 1,0 z\"/>\n\t\t\t<path d=\"M 0,0 L 0,-0.5 L 1,0 z\" transform=\"rotate(-36,1,0)\"/>\n\t\t</g>\n\t\t<use transform=\"scale(-1,1)\" xlink:href=\"#Arm\"/>\n\t\t<use transform=\"rotate(72,0,0)\" xlink:href=\"#Arm\"/>\n\t\t<use transform=\"rotate(-72,0,0)\" xlink:href=\"#Arm\"/>\n\t\t<use transform=\"rotate(-72,0,0) scale(-1,1)\" xlink:href=\"#Arm\"/>\n\t</g>\n</defs>\n\n<rect fill=\"#012169\" height=\"600\" width=\"1200\" x=\"0\" y=\"0\"/>\n\n<g id=\"Flag_of_the_United_Kingdom\">\n\t<path clip-path=\"url(#Canton)\" d=\"M 0,0 L 600,300 M 0,300 L 600,0\" id=\"Saint_Andrews_Cross\" stroke=\"#FFF\" stroke-width=\"60\"/>\n\t<path clip-path=\"url(#Diagonals)\" d=\"M 0,0 L 600,300 M 0,300 L 600,0\" id=\"Saint_Patricks_Cross\" stroke=\"#C8102E\" stroke-width=\"40\"/>\n\t<g id=\"Saint_Georges_Cross\">\n\t\t<path clip-path=\"url(#Canton)\" d=\"M 300,0 L 300,300 M 0,150 L 600,150\" stroke=\"#FFF\" stroke-width=\"100\"/>\n\t\t<path clip-path=\"url(#Canton)\" d=\"M 300,0 L 300,300 M 0,150 L 600,150\" stroke=\"#C8102E\" stroke-width=\"60\"/>\n\t</g>\n</g>\n\n<g id=\"Southern_Cross\">\n\t<g id=\"Gamma_Crucis\">\n\t\t<use fill=\"#FFF\" transform=\"translate(900,120) scale(45.4)\" xlink:href=\"#Pentagram\"/>\n\t\t<use fill=\"#C8102E\" transform=\"translate(900,120) scale(30)\" xlink:href=\"#Pentagram\"/>\n\t</g>\n\t<g transform=\"rotate(82,900,240)\">\n\t\t<g id=\"Delta_Crucis\">\n\t\t\t<use fill=\"#FFF\" transform=\"translate(900,120) rotate(-82) scale(40.4)\" xlink:href=\"#Pentagram\"/>\n\t\t\t<use fill=\"#C8102E\" transform=\"translate(900,120) rotate(-82) scale(25)\" xlink:href=\"#Pentagram\"/>\n\t\t</g>\n\t\t<g id=\"Beta_Crucis\">\n\t\t\t<use fill=\"#FFF\" transform=\"translate(900,380) rotate(-82) scale(45.4)\" xlink:href=\"#Pentagram\"/>\n\t\t\t<use fill=\"#C8102E\" transform=\"translate(900,380) rotate(-82) scale(30)\" xlink:href=\"#Pentagram\"/>\n\t\t</g>\n\t</g>\n\t<g id=\"Alpha_Crucis\">\n\t\t<use fill=\"#FFF\" transform=\"translate(900,480) scale(50.4)\" xlink:href=\"#Pentagram\"/>\n\t\t<use fill=\"#C8102E\" transform=\"translate(900,480) scale(35)\" xlink:href=\"#Pentagram\"/>\n\t</g>\n</g>\n</svg>"
          },
          "metadata": {}
        }
      ]
    },
    {
      "metadata": {
        "trusted": true
      },
      "cell_type": "code",
      "source": "",
      "execution_count": null,
      "outputs": []
    }
  ],
  "metadata": {
    "kernelspec": {
      "name": "python36",
      "display_name": "Python 3.6",
      "language": "python"
    },
    "language_info": {
      "mimetype": "text/x-python",
      "nbconvert_exporter": "python",
      "name": "python",
      "pygments_lexer": "ipython3",
      "version": "3.6.6",
      "file_extension": ".py",
      "codemirror_mode": {
        "version": 3,
        "name": "ipython"
      }
    }
  },
  "nbformat": 4,
  "nbformat_minor": 2
}